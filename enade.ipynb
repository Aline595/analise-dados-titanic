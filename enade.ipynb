{
  "nbformat": 4,
  "nbformat_minor": 0,
  "metadata": {
    "colab": {
      "name": "Aula04.ipynb",
      "provenance": []
    },
    "kernelspec": {
      "name": "python3",
      "display_name": "Python 3"
    }
  },
  "cells": [
    {
      "cell_type": "code",
      "metadata": {
        "id": "IZ54dkyLqxBm"
      },
      "source": [
        "from google.colab import files\n",
        "uploaded = files.upload()"
      ],
      "execution_count": null,
      "outputs": []
    },
    {
      "cell_type": "code",
      "metadata": {
        "id": "MztAwZEarkjB",
        "outputId": "bed8828d-7a53-418e-ce3a-e775ee43a330",
        "colab": {
          "base_uri": "https://localhost:8080/",
          "height": 34
        }
      },
      "source": [
        "import pandas as pd\n",
        "enade = pd.read_excel('ENADE2017.xlsx')\n",
        "enade.shape"
      ],
      "execution_count": null,
      "outputs": [
        {
          "output_type": "execute_result",
          "data": {
            "text/plain": [
              "(1695, 21)"
            ]
          },
          "metadata": {
            "tags": []
          },
          "execution_count": 1
        }
      ]
    },
    {
      "cell_type": "code",
      "metadata": {
        "id": "_AB7YvZuG3F5",
        "outputId": "3e3f3549-5116-4e4c-99a4-218e2ca4ec81",
        "colab": {
          "base_uri": "https://localhost:8080/",
          "height": 463
        }
      },
      "source": [
        "enade.head()"
      ],
      "execution_count": null,
      "outputs": [
        {
          "output_type": "execute_result",
          "data": {
            "text/html": [
              "<div>\n",
              "<style scoped>\n",
              "    .dataframe tbody tr th:only-of-type {\n",
              "        vertical-align: middle;\n",
              "    }\n",
              "\n",
              "    .dataframe tbody tr th {\n",
              "        vertical-align: top;\n",
              "    }\n",
              "\n",
              "    .dataframe thead th {\n",
              "        text-align: right;\n",
              "    }\n",
              "</style>\n",
              "<table border=\"1\" class=\"dataframe\">\n",
              "  <thead>\n",
              "    <tr style=\"text-align: right;\">\n",
              "      <th></th>\n",
              "      <th>Ano</th>\n",
              "      <th>Código da Área</th>\n",
              "      <th>Área de Avaliação</th>\n",
              "      <th>Código da IES</th>\n",
              "      <th>Nome da IES</th>\n",
              "      <th>Sigla da IES</th>\n",
              "      <th>Organização Acadêmica</th>\n",
              "      <th>Categoria Administrativa</th>\n",
              "      <th>Código do Curso</th>\n",
              "      <th>Modalidade de Ensino</th>\n",
              "      <th>Código do Município</th>\n",
              "      <th>Município do Curso</th>\n",
              "      <th>Sigla da UF</th>\n",
              "      <th>Nº de Concluintes Inscritos</th>\n",
              "      <th>Nº  de Concluintes Participantes</th>\n",
              "      <th>Nota Bruta - FG</th>\n",
              "      <th>Nota Padronizada - FG</th>\n",
              "      <th>Nota Bruta - CE</th>\n",
              "      <th>Nota Padronizada - CE</th>\n",
              "      <th>Conceito Enade (Contínuo)</th>\n",
              "      <th>Conceito Enade (Faixa)</th>\n",
              "    </tr>\n",
              "  </thead>\n",
              "  <tbody>\n",
              "    <tr>\n",
              "      <th>0</th>\n",
              "      <td>2017</td>\n",
              "      <td>4004</td>\n",
              "      <td>CIÊNCIA DA COMPUTAÇÃO (BACHARELADO)</td>\n",
              "      <td>550</td>\n",
              "      <td>UNIVERSIDADE ESTADUAL DA PARAÍBA</td>\n",
              "      <td>UEPB</td>\n",
              "      <td>Universidade</td>\n",
              "      <td>Pública Estadual</td>\n",
              "      <td>1265453</td>\n",
              "      <td>Educação Presencial</td>\n",
              "      <td>2510808</td>\n",
              "      <td>Patos</td>\n",
              "      <td>PB</td>\n",
              "      <td>27</td>\n",
              "      <td>1</td>\n",
              "      <td>48.300000</td>\n",
              "      <td>NaN</td>\n",
              "      <td>31.300000</td>\n",
              "      <td>NaN</td>\n",
              "      <td>NaN</td>\n",
              "      <td>SC</td>\n",
              "    </tr>\n",
              "    <tr>\n",
              "      <th>1</th>\n",
              "      <td>2017</td>\n",
              "      <td>4004</td>\n",
              "      <td>CIÊNCIA DA COMPUTAÇÃO (BACHARELADO)</td>\n",
              "      <td>1066</td>\n",
              "      <td>INSTITUTO DE ENSINO E PESQUISA OBJETIVO</td>\n",
              "      <td>IEPO</td>\n",
              "      <td>Faculdade</td>\n",
              "      <td>Privada com fins lucrativos</td>\n",
              "      <td>58808</td>\n",
              "      <td>Educação Presencial</td>\n",
              "      <td>1721000</td>\n",
              "      <td>Palmas</td>\n",
              "      <td>TO</td>\n",
              "      <td>1</td>\n",
              "      <td>0</td>\n",
              "      <td>NaN</td>\n",
              "      <td>NaN</td>\n",
              "      <td>NaN</td>\n",
              "      <td>NaN</td>\n",
              "      <td>NaN</td>\n",
              "      <td>SC</td>\n",
              "    </tr>\n",
              "    <tr>\n",
              "      <th>2</th>\n",
              "      <td>2017</td>\n",
              "      <td>4004</td>\n",
              "      <td>CIÊNCIA DA COMPUTAÇÃO (BACHARELADO)</td>\n",
              "      <td>2676</td>\n",
              "      <td>FACULDADE LA SALLE</td>\n",
              "      <td>NaN</td>\n",
              "      <td>Faculdade</td>\n",
              "      <td>Privada sem fins lucrativos</td>\n",
              "      <td>73438</td>\n",
              "      <td>Educação Presencial</td>\n",
              "      <td>1302603</td>\n",
              "      <td>Manaus</td>\n",
              "      <td>AM</td>\n",
              "      <td>45</td>\n",
              "      <td>6</td>\n",
              "      <td>NaN</td>\n",
              "      <td>NaN</td>\n",
              "      <td>NaN</td>\n",
              "      <td>NaN</td>\n",
              "      <td>NaN</td>\n",
              "      <td>SC</td>\n",
              "    </tr>\n",
              "    <tr>\n",
              "      <th>3</th>\n",
              "      <td>2017</td>\n",
              "      <td>4004</td>\n",
              "      <td>CIÊNCIA DA COMPUTAÇÃO (BACHARELADO)</td>\n",
              "      <td>4656</td>\n",
              "      <td>FACULDADE ANHANGÜERA DE PIRACICABA</td>\n",
              "      <td>NaN</td>\n",
              "      <td>Faculdade</td>\n",
              "      <td>Privada com fins lucrativos</td>\n",
              "      <td>104836</td>\n",
              "      <td>Educação Presencial</td>\n",
              "      <td>3538709</td>\n",
              "      <td>Piracicaba</td>\n",
              "      <td>SP</td>\n",
              "      <td>2</td>\n",
              "      <td>1</td>\n",
              "      <td>49.400000</td>\n",
              "      <td>NaN</td>\n",
              "      <td>39.900000</td>\n",
              "      <td>NaN</td>\n",
              "      <td>NaN</td>\n",
              "      <td>SC</td>\n",
              "    </tr>\n",
              "    <tr>\n",
              "      <th>4</th>\n",
              "      <td>2017</td>\n",
              "      <td>4004</td>\n",
              "      <td>CIÊNCIA DA COMPUTAÇÃO (BACHARELADO)</td>\n",
              "      <td>575</td>\n",
              "      <td>UNIVERSIDADE FEDERAL DE MINAS GERAIS</td>\n",
              "      <td>UFMG</td>\n",
              "      <td>Universidade</td>\n",
              "      <td>Pública Federal</td>\n",
              "      <td>12946</td>\n",
              "      <td>Educação Presencial</td>\n",
              "      <td>3106200</td>\n",
              "      <td>Belo Horizonte</td>\n",
              "      <td>MG</td>\n",
              "      <td>79</td>\n",
              "      <td>72</td>\n",
              "      <td>64.683333</td>\n",
              "      <td>4.526723</td>\n",
              "      <td>59.127778</td>\n",
              "      <td>5.0</td>\n",
              "      <td>4.881681</td>\n",
              "      <td>5</td>\n",
              "    </tr>\n",
              "  </tbody>\n",
              "</table>\n",
              "</div>"
            ],
            "text/plain": [
              "    Ano  Código da Área  ... Conceito Enade (Contínuo)  Conceito Enade (Faixa)\n",
              "0  2017            4004  ...                       NaN                      SC\n",
              "1  2017            4004  ...                       NaN                      SC\n",
              "2  2017            4004  ...                       NaN                      SC\n",
              "3  2017            4004  ...                       NaN                      SC\n",
              "4  2017            4004  ...                  4.881681                       5\n",
              "\n",
              "[5 rows x 21 columns]"
            ]
          },
          "metadata": {
            "tags": []
          },
          "execution_count": 2
        }
      ]
    },
    {
      "cell_type": "code",
      "metadata": {
        "id": "AwOJdGqGspd1",
        "outputId": "09fb549f-3dff-4d9e-e8fa-7f9d7f7720ca",
        "colab": {
          "base_uri": "https://localhost:8080/",
          "height": 350
        }
      },
      "source": [
        "enade.describe()"
      ],
      "execution_count": null,
      "outputs": [
        {
          "output_type": "execute_result",
          "data": {
            "text/html": [
              "<div>\n",
              "<style scoped>\n",
              "    .dataframe tbody tr th:only-of-type {\n",
              "        vertical-align: middle;\n",
              "    }\n",
              "\n",
              "    .dataframe tbody tr th {\n",
              "        vertical-align: top;\n",
              "    }\n",
              "\n",
              "    .dataframe thead th {\n",
              "        text-align: right;\n",
              "    }\n",
              "</style>\n",
              "<table border=\"1\" class=\"dataframe\">\n",
              "  <thead>\n",
              "    <tr style=\"text-align: right;\">\n",
              "      <th></th>\n",
              "      <th>Ano</th>\n",
              "      <th>Código da Área</th>\n",
              "      <th>Código da IES</th>\n",
              "      <th>Código do Curso</th>\n",
              "      <th>Código do Município</th>\n",
              "      <th>Nº de Concluintes Inscritos</th>\n",
              "      <th>Nº  de Concluintes Participantes</th>\n",
              "      <th>Nota Bruta - FG</th>\n",
              "      <th>Nota Padronizada - FG</th>\n",
              "      <th>Nota Bruta - CE</th>\n",
              "      <th>Nota Padronizada - CE</th>\n",
              "      <th>Conceito Enade (Contínuo)</th>\n",
              "    </tr>\n",
              "  </thead>\n",
              "  <tbody>\n",
              "    <tr>\n",
              "      <th>count</th>\n",
              "      <td>1695.0</td>\n",
              "      <td>1695.000000</td>\n",
              "      <td>1695.000000</td>\n",
              "      <td>1.695000e+03</td>\n",
              "      <td>1.695000e+03</td>\n",
              "      <td>1695.000000</td>\n",
              "      <td>1695.000000</td>\n",
              "      <td>1642.000000</td>\n",
              "      <td>1604.000000</td>\n",
              "      <td>1642.000000</td>\n",
              "      <td>1604.000000</td>\n",
              "      <td>1604.000000</td>\n",
              "    </tr>\n",
              "    <tr>\n",
              "      <th>mean</th>\n",
              "      <td>2017.0</td>\n",
              "      <td>2874.545723</td>\n",
              "      <td>2018.587021</td>\n",
              "      <td>4.900476e+05</td>\n",
              "      <td>3.488582e+06</td>\n",
              "      <td>30.095575</td>\n",
              "      <td>23.948083</td>\n",
              "      <td>49.832162</td>\n",
              "      <td>2.641239</td>\n",
              "      <td>38.783531</td>\n",
              "      <td>2.391709</td>\n",
              "      <td>2.454092</td>\n",
              "    </tr>\n",
              "    <tr>\n",
              "      <th>std</th>\n",
              "      <td>0.0</td>\n",
              "      <td>2093.029110</td>\n",
              "      <td>3121.833792</td>\n",
              "      <td>7.779326e+05</td>\n",
              "      <td>9.159938e+05</td>\n",
              "      <td>36.146433</td>\n",
              "      <td>27.539254</td>\n",
              "      <td>8.598895</td>\n",
              "      <td>0.980454</td>\n",
              "      <td>8.652268</td>\n",
              "      <td>1.022342</td>\n",
              "      <td>0.926690</td>\n",
              "    </tr>\n",
              "    <tr>\n",
              "      <th>min</th>\n",
              "      <td>2017.0</td>\n",
              "      <td>72.000000</td>\n",
              "      <td>1.000000</td>\n",
              "      <td>3.600000e+01</td>\n",
              "      <td>1.100049e+06</td>\n",
              "      <td>1.000000</td>\n",
              "      <td>0.000000</td>\n",
              "      <td>6.400000</td>\n",
              "      <td>0.000000</td>\n",
              "      <td>5.000000</td>\n",
              "      <td>0.000000</td>\n",
              "      <td>0.000000</td>\n",
              "    </tr>\n",
              "    <tr>\n",
              "      <th>25%</th>\n",
              "      <td>2017.0</td>\n",
              "      <td>79.000000</td>\n",
              "      <td>402.000000</td>\n",
              "      <td>5.494750e+04</td>\n",
              "      <td>3.106452e+06</td>\n",
              "      <td>11.000000</td>\n",
              "      <td>9.000000</td>\n",
              "      <td>44.575184</td>\n",
              "      <td>2.028761</td>\n",
              "      <td>32.428585</td>\n",
              "      <td>1.636685</td>\n",
              "      <td>1.785986</td>\n",
              "    </tr>\n",
              "    <tr>\n",
              "      <th>50%</th>\n",
              "      <td>2017.0</td>\n",
              "      <td>4004.000000</td>\n",
              "      <td>1036.000000</td>\n",
              "      <td>9.930000e+04</td>\n",
              "      <td>3.530607e+06</td>\n",
              "      <td>21.000000</td>\n",
              "      <td>17.000000</td>\n",
              "      <td>50.069067</td>\n",
              "      <td>2.647404</td>\n",
              "      <td>38.851316</td>\n",
              "      <td>2.353891</td>\n",
              "      <td>2.415933</td>\n",
              "    </tr>\n",
              "    <tr>\n",
              "      <th>75%</th>\n",
              "      <td>2017.0</td>\n",
              "      <td>4006.000000</td>\n",
              "      <td>2055.000000</td>\n",
              "      <td>1.125862e+06</td>\n",
              "      <td>4.113952e+06</td>\n",
              "      <td>37.000000</td>\n",
              "      <td>30.000000</td>\n",
              "      <td>55.399324</td>\n",
              "      <td>3.319948</td>\n",
              "      <td>44.569737</td>\n",
              "      <td>3.089926</td>\n",
              "      <td>3.087379</td>\n",
              "    </tr>\n",
              "    <tr>\n",
              "      <th>max</th>\n",
              "      <td>2017.0</td>\n",
              "      <td>6409.000000</td>\n",
              "      <td>19739.000000</td>\n",
              "      <td>5.001284e+06</td>\n",
              "      <td>5.300108e+06</td>\n",
              "      <td>541.000000</td>\n",
              "      <td>378.000000</td>\n",
              "      <td>92.100000</td>\n",
              "      <td>5.000000</td>\n",
              "      <td>75.700000</td>\n",
              "      <td>5.000000</td>\n",
              "      <td>5.000000</td>\n",
              "    </tr>\n",
              "  </tbody>\n",
              "</table>\n",
              "</div>"
            ],
            "text/plain": [
              "          Ano  Código da Área  ...  Nota Padronizada - CE  Conceito Enade (Contínuo)\n",
              "count  1695.0     1695.000000  ...            1604.000000                1604.000000\n",
              "mean   2017.0     2874.545723  ...               2.391709                   2.454092\n",
              "std       0.0     2093.029110  ...               1.022342                   0.926690\n",
              "min    2017.0       72.000000  ...               0.000000                   0.000000\n",
              "25%    2017.0       79.000000  ...               1.636685                   1.785986\n",
              "50%    2017.0     4004.000000  ...               2.353891                   2.415933\n",
              "75%    2017.0     4006.000000  ...               3.089926                   3.087379\n",
              "max    2017.0     6409.000000  ...               5.000000                   5.000000\n",
              "\n",
              "[8 rows x 12 columns]"
            ]
          },
          "metadata": {
            "tags": []
          },
          "execution_count": 3
        }
      ]
    },
    {
      "cell_type": "code",
      "metadata": {
        "id": "NnRGJsVasyJ1",
        "outputId": "a80ab2f9-4f83-443a-d6b9-b083a3e7df48",
        "colab": {
          "base_uri": "https://localhost:8080/",
          "height": 281
        }
      },
      "source": [
        "import matplotlib.pyplot as plt\n",
        "enade.hist(column='Nº de Concluintes Inscritos', bins = 30)\n",
        "plt.show()"
      ],
      "execution_count": null,
      "outputs": [
        {
          "output_type": "display_data",
          "data": {
            "image/png": "[encoded data removed]",
            "text/plain": [
              "<Figure size 432x288 with 1 Axes>"
            ]
          },
          "metadata": {
            "tags": [],
            "needs_background": "light"
          }
        }
      ]
    },
    {
      "cell_type": "code",
      "metadata": {
        "id": "ptsxBK763TWH",
        "outputId": "086eb569-f6ad-4496-bc0d-d8b668f7fe03",
        "colab": {
          "base_uri": "https://localhost:8080/",
          "height": 281
        }
      },
      "source": [
        "enade.hist(column='Conceito Enade (Contínuo)',bins = 100)\n",
        "plt.show()"
      ],
      "execution_count": null,
      "outputs": [
        {
          "output_type": "display_data",
          "data": {
            "image/png": "[encoded data removed]",
            "text/plain": [
              "<Figure size 432x288 with 1 Axes>"
            ]
          },
          "metadata": {
            "tags": [],
            "needs_background": "light"
          }
        }
      ]
    },
    {
      "cell_type": "code",
      "metadata": {
        "id": "4nuvIPNs3wzd",
        "outputId": "16661450-3b76-4f44-cf38-2e23030e1245",
        "colab": {
          "base_uri": "https://localhost:8080/",
          "height": 281
        }
      },
      "source": [
        "enade.hist(column='Conceito Enade (Contínuo)',bins = 20)\n",
        "plt.show()"
      ],
      "execution_count": null,
      "outputs": [
        {
          "output_type": "display_data",
          "data": {
            "image/png": "[encoded data removed]",
            "text/plain": [
              "<Figure size 432x288 with 1 Axes>"
            ]
          },
          "metadata": {
            "tags": [],
            "needs_background": "light"
          }
        }
      ]
    },
    {
      "cell_type": "markdown",
      "metadata": {
        "id": "r87LMETFKOE-"
      },
      "source": [
        "Recuperando um exemplo anterior para deixar mais claro o histograma:"
      ]
    },
    {
      "cell_type": "code",
      "metadata": {
        "id": "RDvOZ7eaKL-K",
        "outputId": "f92054eb-ec06-4f76-d7d0-0efed15b9bec",
        "colab": {
          "base_uri": "https://localhost:8080/",
          "height": 291
        }
      },
      "source": [
        "alunos = {'Altura':[1.76, 1.8, 1.77, 1.66, 1.8, 1.7, 1.73, 1.67, 1.78, 1.81, 1.65, 1.78, 1.75, 1.72, 1.71]}\n",
        "\n",
        "df1 = pd.DataFrame(alunos)\n",
        "print(df1.shape)\n",
        "print(df1.head())\n",
        "print(df1.describe())"
      ],
      "execution_count": null,
      "outputs": [
        {
          "output_type": "stream",
          "text": [
            "(15, 1)\n",
            "   Altura\n",
            "0    1.76\n",
            "1    1.80\n",
            "2    1.77\n",
            "3    1.66\n",
            "4    1.80\n",
            "          Altura\n",
            "count  15.000000\n",
            "mean    1.739333\n",
            "std     0.052843\n",
            "min     1.650000\n",
            "25%     1.705000\n",
            "50%     1.750000\n",
            "75%     1.780000\n",
            "max     1.810000\n"
          ],
          "name": "stdout"
        }
      ]
    },
    {
      "cell_type": "code",
      "metadata": {
        "id": "nCkPUZ24KYrX",
        "outputId": "bac5b9e8-fcf8-44be-a455-a77d9d4edea2",
        "colab": {
          "base_uri": "https://localhost:8080/",
          "height": 281
        }
      },
      "source": [
        "import matplotlib.pyplot as plt\n",
        "df1.hist(column='Altura', bins = 5)\n",
        "plt.show()"
      ],
      "execution_count": null,
      "outputs": [
        {
          "output_type": "display_data",
          "data": {
            "image/png": "[encoded data removed]",
            "text/plain": [
              "<Figure size 432x288 with 1 Axes>"
            ]
          },
          "metadata": {
            "tags": [],
            "needs_background": "light"
          }
        }
      ]
    },
    {
      "cell_type": "code",
      "metadata": {
        "id": "CZKeUiWp344M",
        "outputId": "64ad9776-c8c0-487f-8cdb-2cc966d42bb9",
        "colab": {
          "base_uri": "https://localhost:8080/",
          "height": 34
        }
      },
      "source": [
        "x = [1,2,3,4,5,6,7,8,9,10]\n",
        "y = []\n",
        "for i in x:\n",
        "  y.append(i**2)\n",
        "print(y)"
      ],
      "execution_count": null,
      "outputs": [
        {
          "output_type": "stream",
          "text": [
            "[1, 4, 9, 16, 25, 36, 49, 64, 81, 100]\n"
          ],
          "name": "stdout"
        }
      ]
    },
    {
      "cell_type": "code",
      "metadata": {
        "id": "d2xGTe3i4FGD",
        "outputId": "16a76671-b58d-4409-9a3f-1ff465cc634b",
        "colab": {
          "base_uri": "https://localhost:8080/",
          "height": 265
        }
      },
      "source": [
        "plt.scatter(x,y)\n",
        "plt.show()"
      ],
      "execution_count": null,
      "outputs": [
        {
          "output_type": "display_data",
          "data": {
            "image/png": "[encoded data removed]",
            "text/plain": [
              "<Figure size 432x288 with 1 Axes>"
            ]
          },
          "metadata": {
            "tags": [],
            "needs_background": "light"
          }
        }
      ]
    },
    {
      "cell_type": "code",
      "metadata": {
        "id": "1LUqdn_h4elH",
        "outputId": "5e0ee8f6-4fd7-4e52-e079-43473f90df22",
        "colab": {
          "base_uri": "https://localhost:8080/",
          "height": 265
        }
      },
      "source": [
        "plt.plot(x,y)\n",
        "plt.show()"
      ],
      "execution_count": null,
      "outputs": [
        {
          "output_type": "display_data",
          "data": {
            "image/png": "[encoded data removed]",
            "text/plain": [
              "<Figure size 432x288 with 1 Axes>"
            ]
          },
          "metadata": {
            "tags": [],
            "needs_background": "light"
          }
        }
      ]
    },
    {
      "cell_type": "code",
      "metadata": {
        "id": "ZKGZVXhY41Kt",
        "outputId": "ee9c2ff9-0ead-4959-fe7c-da358aa18218",
        "colab": {
          "base_uri": "https://localhost:8080/",
          "height": 276
        }
      },
      "source": [
        "import numpy as np\n",
        "x2 = np.arange(-1000,1000,1)\n",
        "plt.plot(x2,x2**2)\n",
        "plt.show()"
      ],
      "execution_count": null,
      "outputs": [
        {
          "output_type": "display_data",
          "data": {
            "image/png": "[encoded data removed]",
            "text/plain": [
              "<Figure size 432x288 with 1 Axes>"
            ]
          },
          "metadata": {
            "tags": [],
            "needs_background": "light"
          }
        }
      ]
    },
    {
      "cell_type": "code",
      "metadata": {
        "id": "ulpK0a995B3X",
        "outputId": "eea2cb69-3bac-4dab-cf7f-ba409d530c5d",
        "colab": {
          "base_uri": "https://localhost:8080/",
          "height": 463
        }
      },
      "source": [
        "escolassp = enade.loc[enade['Sigla da UF']=='SP']\n",
        "escolassp.head()"
      ],
      "execution_count": null,
      "outputs": [
        {
          "output_type": "execute_result",
          "data": {
            "text/html": [
              "<div>\n",
              "<style scoped>\n",
              "    .dataframe tbody tr th:only-of-type {\n",
              "        vertical-align: middle;\n",
              "    }\n",
              "\n",
              "    .dataframe tbody tr th {\n",
              "        vertical-align: top;\n",
              "    }\n",
              "\n",
              "    .dataframe thead th {\n",
              "        text-align: right;\n",
              "    }\n",
              "</style>\n",
              "<table border=\"1\" class=\"dataframe\">\n",
              "  <thead>\n",
              "    <tr style=\"text-align: right;\">\n",
              "      <th></th>\n",
              "      <th>Ano</th>\n",
              "      <th>Código da Área</th>\n",
              "      <th>Área de Avaliação</th>\n",
              "      <th>Código da IES</th>\n",
              "      <th>Nome da IES</th>\n",
              "      <th>Sigla da IES</th>\n",
              "      <th>Organização Acadêmica</th>\n",
              "      <th>Categoria Administrativa</th>\n",
              "      <th>Código do Curso</th>\n",
              "      <th>Modalidade de Ensino</th>\n",
              "      <th>Código do Município</th>\n",
              "      <th>Município do Curso</th>\n",
              "      <th>Sigla da UF</th>\n",
              "      <th>Nº de Concluintes Inscritos</th>\n",
              "      <th>Nº  de Concluintes Participantes</th>\n",
              "      <th>Nota Bruta - FG</th>\n",
              "      <th>Nota Padronizada - FG</th>\n",
              "      <th>Nota Bruta - CE</th>\n",
              "      <th>Nota Padronizada - CE</th>\n",
              "      <th>Conceito Enade (Contínuo)</th>\n",
              "      <th>Conceito Enade (Faixa)</th>\n",
              "    </tr>\n",
              "  </thead>\n",
              "  <tbody>\n",
              "    <tr>\n",
              "      <th>3</th>\n",
              "      <td>2017</td>\n",
              "      <td>4004</td>\n",
              "      <td>CIÊNCIA DA COMPUTAÇÃO (BACHARELADO)</td>\n",
              "      <td>4656</td>\n",
              "      <td>FACULDADE ANHANGÜERA DE PIRACICABA</td>\n",
              "      <td>NaN</td>\n",
              "      <td>Faculdade</td>\n",
              "      <td>Privada com fins lucrativos</td>\n",
              "      <td>104836</td>\n",
              "      <td>Educação Presencial</td>\n",
              "      <td>3538709</td>\n",
              "      <td>Piracicaba</td>\n",
              "      <td>SP</td>\n",
              "      <td>2</td>\n",
              "      <td>1</td>\n",
              "      <td>49.400000</td>\n",
              "      <td>NaN</td>\n",
              "      <td>39.900000</td>\n",
              "      <td>NaN</td>\n",
              "      <td>NaN</td>\n",
              "      <td>SC</td>\n",
              "    </tr>\n",
              "    <tr>\n",
              "      <th>5</th>\n",
              "      <td>2017</td>\n",
              "      <td>4004</td>\n",
              "      <td>CIÊNCIA DA COMPUTAÇÃO (BACHARELADO)</td>\n",
              "      <td>54</td>\n",
              "      <td>UNIVERSIDADE ESTADUAL DE CAMPINAS</td>\n",
              "      <td>UNICAMP</td>\n",
              "      <td>Universidade</td>\n",
              "      <td>Pública Estadual</td>\n",
              "      <td>2717</td>\n",
              "      <td>Educação Presencial</td>\n",
              "      <td>3509502</td>\n",
              "      <td>Campinas</td>\n",
              "      <td>SP</td>\n",
              "      <td>48</td>\n",
              "      <td>45</td>\n",
              "      <td>64.480000</td>\n",
              "      <td>4.497562</td>\n",
              "      <td>58.597778</td>\n",
              "      <td>4.932273</td>\n",
              "      <td>4.823595</td>\n",
              "      <td>5</td>\n",
              "    </tr>\n",
              "    <tr>\n",
              "      <th>13</th>\n",
              "      <td>2017</td>\n",
              "      <td>4004</td>\n",
              "      <td>CIÊNCIA DA COMPUTAÇÃO (BACHARELADO)</td>\n",
              "      <td>591</td>\n",
              "      <td>UNIVERSIDADE FEDERAL DE SÃO PAULO</td>\n",
              "      <td>UNIFESP</td>\n",
              "      <td>Universidade</td>\n",
              "      <td>Pública Federal</td>\n",
              "      <td>110528</td>\n",
              "      <td>Educação Presencial</td>\n",
              "      <td>3549904</td>\n",
              "      <td>São José dos Campos</td>\n",
              "      <td>SP</td>\n",
              "      <td>45</td>\n",
              "      <td>38</td>\n",
              "      <td>64.542105</td>\n",
              "      <td>4.506469</td>\n",
              "      <td>53.265789</td>\n",
              "      <td>4.250917</td>\n",
              "      <td>4.314805</td>\n",
              "      <td>5</td>\n",
              "    </tr>\n",
              "    <tr>\n",
              "      <th>14</th>\n",
              "      <td>2017</td>\n",
              "      <td>4004</td>\n",
              "      <td>CIÊNCIA DA COMPUTAÇÃO (BACHARELADO)</td>\n",
              "      <td>7</td>\n",
              "      <td>UNIVERSIDADE FEDERAL DE SÃO CARLOS</td>\n",
              "      <td>UFSCAR</td>\n",
              "      <td>Universidade</td>\n",
              "      <td>Pública Federal</td>\n",
              "      <td>112680</td>\n",
              "      <td>Educação Presencial</td>\n",
              "      <td>3552205</td>\n",
              "      <td>Sorocaba</td>\n",
              "      <td>SP</td>\n",
              "      <td>44</td>\n",
              "      <td>43</td>\n",
              "      <td>61.920930</td>\n",
              "      <td>4.130547</td>\n",
              "      <td>54.158140</td>\n",
              "      <td>4.364948</td>\n",
              "      <td>4.306348</td>\n",
              "      <td>5</td>\n",
              "    </tr>\n",
              "    <tr>\n",
              "      <th>28</th>\n",
              "      <td>2017</td>\n",
              "      <td>4004</td>\n",
              "      <td>CIÊNCIA DA COMPUTAÇÃO (BACHARELADO)</td>\n",
              "      <td>4925</td>\n",
              "      <td>FUNDAÇÃO UNIVERSIDADE FEDERAL DO ABC</td>\n",
              "      <td>UFABC</td>\n",
              "      <td>Universidade</td>\n",
              "      <td>Pública Federal</td>\n",
              "      <td>1102342</td>\n",
              "      <td>Educação Presencial</td>\n",
              "      <td>3547809</td>\n",
              "      <td>Santo André</td>\n",
              "      <td>SP</td>\n",
              "      <td>93</td>\n",
              "      <td>69</td>\n",
              "      <td>64.811594</td>\n",
              "      <td>4.545118</td>\n",
              "      <td>50.160870</td>\n",
              "      <td>3.854151</td>\n",
              "      <td>4.026892</td>\n",
              "      <td>5</td>\n",
              "    </tr>\n",
              "  </tbody>\n",
              "</table>\n",
              "</div>"
            ],
            "text/plain": [
              "     Ano  Código da Área  ... Conceito Enade (Contínuo)  Conceito Enade (Faixa)\n",
              "3   2017            4004  ...                       NaN                      SC\n",
              "5   2017            4004  ...                  4.823595                       5\n",
              "13  2017            4004  ...                  4.314805                       5\n",
              "14  2017            4004  ...                  4.306348                       5\n",
              "28  2017            4004  ...                  4.026892                       5\n",
              "\n",
              "[5 rows x 21 columns]"
            ]
          },
          "metadata": {
            "tags": []
          },
          "execution_count": 28
        }
      ]
    },
    {
      "cell_type": "code",
      "metadata": {
        "id": "vw-le2hF5JTl",
        "outputId": "a9d108f6-bbe1-436b-c6a2-4e0237342a78",
        "colab": {
          "base_uri": "https://localhost:8080/",
          "height": 265
        }
      },
      "source": [
        "nconcluintes = escolassp['Nº  de Concluintes Participantes']\n",
        "nota = escolassp['Nota Padronizada - CE']\n",
        "plt.scatter(nconcluintes,nota)\n",
        "plt.show()"
      ],
      "execution_count": null,
      "outputs": [
        {
          "output_type": "display_data",
          "data": {
            "image/png": "[encoded data removed]",
            "text/plain": [
              "<Figure size 432x288 with 1 Axes>"
            ]
          },
          "metadata": {
            "tags": [],
            "needs_background": "light"
          }
        }
      ]
    },
    {
      "cell_type": "code",
      "metadata": {
        "id": "7Yrx6rpm52jL",
        "outputId": "8b26a984-e06c-475b-b336-9a203b6c9133",
        "colab": {
          "base_uri": "https://localhost:8080/",
          "height": 265
        }
      },
      "source": [
        "plt.scatter(nota,nconcluintes)\n",
        "plt.show()"
      ],
      "execution_count": null,
      "outputs": [
        {
          "output_type": "display_data",
          "data": {
            "image/png": "[encoded data removed]",
            "text/plain": [
              "<Figure size 432x288 with 1 Axes>"
            ]
          },
          "metadata": {
            "tags": [],
            "needs_background": "light"
          }
        }
      ]
    },
    {
      "cell_type": "code",
      "metadata": {
        "id": "fxsdRkZC6H2k",
        "outputId": "9c5d2f9f-0f97-4ebf-8caa-d26d49cc5a39",
        "colab": {
          "base_uri": "https://localhost:8080/",
          "height": 265
        }
      },
      "source": [
        "nparticipantes = escolassp['Nº de Concluintes Inscritos']\n",
        "plt.scatter(nconcluintes,nparticipantes)\n",
        "plt.show()"
      ],
      "execution_count": null,
      "outputs": [
        {
          "output_type": "display_data",
          "data": {
            "image/png": "[encoded data removed]",
            "text/plain": [
              "<Figure size 432x288 with 1 Axes>"
            ]
          },
          "metadata": {
            "tags": [],
            "needs_background": "light"
          }
        }
      ]
    },
    {
      "cell_type": "code",
      "metadata": {
        "id": "6p2Mp7N36kFI",
        "outputId": "43ae95c5-f91b-4fba-a66f-24abb46a8248",
        "colab": {
          "base_uri": "https://localhost:8080/",
          "height": 281
        }
      },
      "source": [
        "plt.ylabel('Concluintes')\n",
        "plt.title('Participantes')\n",
        "plt.xlim(0, 400)\n",
        "plt.ylim(0, 500)\n",
        "plt.grid(True)\n",
        "plt.scatter(nconcluintes,nparticipantes)\n",
        "plt.savefig(fname='participantes_concluintes.pdf', format='pdf')\n",
        "plt.show()"
      ],
      "execution_count": null,
      "outputs": [
        {
          "output_type": "display_data",
          "data": {
            "image/png": "[encoded data removed]",
            "text/plain": [
              "<Figure size 432x288 with 1 Axes>"
            ]
          },
          "metadata": {
            "tags": [],
            "needs_background": "light"
          }
        }
      ]
    },
    {
      "cell_type": "code",
      "metadata": {
        "id": "HVkFFJy4eGbG",
        "outputId": "4e7233f6-90d5-44b7-eea0-ecf8112ad36d",
        "colab": {
          "base_uri": "https://localhost:8080/",
          "height": 86
        }
      },
      "source": [
        "import numpy as np\n",
        "g2 = np.random.randn((10000))\n",
        "#print(g2, \"\\n\")\n",
        "print(\"Média de g2:\", g2.mean())\n",
        "print(\"Mínimo de g2:\", g2.min())\n",
        "print(\"Máximo de g2:\", g2.max())\n",
        "print(\"Desvio padrão de g2:\", g2.std())"
      ],
      "execution_count": null,
      "outputs": [
        {
          "output_type": "stream",
          "text": [
            "Média de g2: 0.006938599449774684\n",
            "Mínimo de g2: -3.9392208092174608\n",
            "Máximo de g2: 3.9094752206137264\n",
            "Desvio padrão de g2: 1.003450447537101\n"
          ],
          "name": "stdout"
        }
      ]
    },
    {
      "cell_type": "code",
      "metadata": {
        "id": "lYdlNYc7eZat",
        "outputId": "4debd45f-319d-47aa-dfe5-f91eb086b0fc",
        "colab": {
          "base_uri": "https://localhost:8080/",
          "height": 265
        }
      },
      "source": [
        "s2 = pd.Series(g2)\n",
        "s2.hist(bins=100)\n",
        "plt.show()"
      ],
      "execution_count": null,
      "outputs": [
        {
          "output_type": "display_data",
          "data": {
            "image/png": "[encoded data removed]",
            "text/plain": [
              "<Figure size 432x288 with 1 Axes>"
            ]
          },
          "metadata": {
            "tags": [],
            "needs_background": "light"
          }
        }
      ]
    },
    {
      "cell_type": "code",
      "metadata": {
        "id": "lxLGfYC9m2nQ",
        "outputId": "b23b475c-2bf7-4525-9282-f94040bdd74a",
        "colab": {
          "base_uri": "https://localhost:8080/",
          "height": 377
        }
      },
      "source": [
        "s2.head(20)"
      ],
      "execution_count": null,
      "outputs": [
        {
          "output_type": "execute_result",
          "data": {
            "text/plain": [
              "0     0.244963\n",
              "1    -0.238093\n",
              "2    -0.420501\n",
              "3    -1.295485\n",
              "4     0.154491\n",
              "5    -0.390769\n",
              "6     1.204529\n",
              "7    -0.189528\n",
              "8     0.513994\n",
              "9    -0.057905\n",
              "10   -1.485954\n",
              "11    0.497712\n",
              "12    0.828212\n",
              "13    0.854152\n",
              "14    0.732563\n",
              "15   -1.888627\n",
              "16   -0.833658\n",
              "17   -0.453579\n",
              "18   -0.290330\n",
              "19   -0.355141\n",
              "dtype: float64"
            ]
          },
          "metadata": {
            "tags": []
          },
          "execution_count": 20
        }
      ]
    },
    {
      "cell_type": "markdown",
      "metadata": {
        "id": "yoIBmCXLtBX1"
      },
      "source": [
        "Base do Titanic:\n"
      ]
    },
    {
      "cell_type": "code",
      "metadata": {
        "id": "AvCXvXPZtELX"
      },
      "source": [
        "from google.colab import files\n",
        "uploaded = files.upload()"
      ],
      "execution_count": null,
      "outputs": []
    },
    {
      "cell_type": "code",
      "metadata": {
        "id": "c300TGSJtTAD",
        "outputId": "73cef783-c8ad-40bd-9eff-6c5cc20e2e77",
        "colab": {
          "base_uri": "https://localhost:8080/",
          "height": 34
        }
      },
      "source": [
        "import pandas as pd\n",
        "titanic = pd.read_csv('train.csv')\n",
        "titanic.shape"
      ],
      "execution_count": null,
      "outputs": [
        {
          "output_type": "execute_result",
          "data": {
            "text/plain": [
              "(891, 12)"
            ]
          },
          "metadata": {
            "tags": []
          },
          "execution_count": 40
        }
      ]
    },
    {
      "cell_type": "code",
      "metadata": {
        "id": "FGL2moBetkHm",
        "outputId": "7a885cda-b575-4d1e-f1bb-c478ea4cbaf9",
        "colab": {
          "base_uri": "https://localhost:8080/",
          "height": 497
        }
      },
      "source": [
        "titanic.head()"
      ],
      "execution_count": null,
      "outputs": [
        {
          "output_type": "execute_result",
          "data": {
            "text/html": [
              "<div>\n",
              "<style scoped>\n",
              "    .dataframe tbody tr th:only-of-type {\n",
              "        vertical-align: middle;\n",
              "    }\n",
              "\n",
              "    .dataframe tbody tr th {\n",
              "        vertical-align: top;\n",
              "    }\n",
              "\n",
              "    .dataframe thead th {\n",
              "        text-align: right;\n",
              "    }\n",
              "</style>\n",
              "<table border=\"1\" class=\"dataframe\">\n",
              "  <thead>\n",
              "    <tr style=\"text-align: right;\">\n",
              "      <th></th>\n",
              "      <th>PassengerId</th>\n",
              "      <th>Survived</th>\n",
              "      <th>Pclass</th>\n",
              "      <th>Name</th>\n",
              "      <th>Sex</th>\n",
              "      <th>Age</th>\n",
              "      <th>SibSp</th>\n",
              "      <th>Parch</th>\n",
              "      <th>Ticket</th>\n",
              "      <th>Fare</th>\n",
              "      <th>Cabin</th>\n",
              "      <th>Embarked</th>\n",
              "    </tr>\n",
              "  </thead>\n",
              "  <tbody>\n",
              "    <tr>\n",
              "      <th>0</th>\n",
              "      <td>1</td>\n",
              "      <td>0</td>\n",
              "      <td>3</td>\n",
              "      <td>Braund, Mr. Owen Harris</td>\n",
              "      <td>male</td>\n",
              "      <td>22.0</td>\n",
              "      <td>1</td>\n",
              "      <td>0</td>\n",
              "      <td>A/5 21171</td>\n",
              "      <td>7.2500</td>\n",
              "      <td>NaN</td>\n",
              "      <td>S</td>\n",
              "    </tr>\n",
              "    <tr>\n",
              "      <th>1</th>\n",
              "      <td>2</td>\n",
              "      <td>1</td>\n",
              "      <td>1</td>\n",
              "      <td>Cumings, Mrs. John Bradley (Florence Briggs Th...</td>\n",
              "      <td>female</td>\n",
              "      <td>38.0</td>\n",
              "      <td>1</td>\n",
              "      <td>0</td>\n",
              "      <td>PC 17599</td>\n",
              "      <td>71.2833</td>\n",
              "      <td>C85</td>\n",
              "      <td>C</td>\n",
              "    </tr>\n",
              "    <tr>\n",
              "      <th>2</th>\n",
              "      <td>3</td>\n",
              "      <td>1</td>\n",
              "      <td>3</td>\n",
              "      <td>Heikkinen, Miss. Laina</td>\n",
              "      <td>female</td>\n",
              "      <td>26.0</td>\n",
              "      <td>0</td>\n",
              "      <td>0</td>\n",
              "      <td>STON/O2. 3101282</td>\n",
              "      <td>7.9250</td>\n",
              "      <td>NaN</td>\n",
              "      <td>S</td>\n",
              "    </tr>\n",
              "    <tr>\n",
              "      <th>3</th>\n",
              "      <td>4</td>\n",
              "      <td>1</td>\n",
              "      <td>1</td>\n",
              "      <td>Futrelle, Mrs. Jacques Heath (Lily May Peel)</td>\n",
              "      <td>female</td>\n",
              "      <td>35.0</td>\n",
              "      <td>1</td>\n",
              "      <td>0</td>\n",
              "      <td>113803</td>\n",
              "      <td>53.1000</td>\n",
              "      <td>C123</td>\n",
              "      <td>S</td>\n",
              "    </tr>\n",
              "    <tr>\n",
              "      <th>4</th>\n",
              "      <td>5</td>\n",
              "      <td>0</td>\n",
              "      <td>3</td>\n",
              "      <td>Allen, Mr. William Henry</td>\n",
              "      <td>male</td>\n",
              "      <td>35.0</td>\n",
              "      <td>0</td>\n",
              "      <td>0</td>\n",
              "      <td>373450</td>\n",
              "      <td>8.0500</td>\n",
              "      <td>NaN</td>\n",
              "      <td>S</td>\n",
              "    </tr>\n",
              "  </tbody>\n",
              "</table>\n",
              "</div>"
            ],
            "text/plain": [
              "   PassengerId  Survived  Pclass  ...     Fare Cabin  Embarked\n",
              "0            1         0       3  ...   7.2500   NaN         S\n",
              "1            2         1       1  ...  71.2833   C85         C\n",
              "2            3         1       3  ...   7.9250   NaN         S\n",
              "3            4         1       1  ...  53.1000  C123         S\n",
              "4            5         0       3  ...   8.0500   NaN         S\n",
              "\n",
              "[5 rows x 12 columns]"
            ]
          },
          "metadata": {
            "tags": []
          },
          "execution_count": 41
        }
      ]
    },
    {
      "cell_type": "code",
      "metadata": {
        "id": "1P8bTZXtuRN5",
        "outputId": "2fd536d3-8e52-4607-bc5b-ee3a1302549f",
        "colab": {
          "base_uri": "https://localhost:8080/",
          "height": 281
        }
      },
      "source": [
        "titanic.hist(column='Age', bins = 20)\n",
        "plt.show()"
      ],
      "execution_count": null,
      "outputs": [
        {
          "output_type": "display_data",
          "data": {
            "image/png": "[encoded data removed]",
            "text/plain": [
              "<Figure size 432x288 with 1 Axes>"
            ]
          },
          "metadata": {
            "tags": [],
            "needs_background": "light"
          }
        }
      ]
    },
    {
      "cell_type": "code",
      "metadata": {
        "id": "hycgbg2SvoYe",
        "outputId": "7d2272b0-c131-4b37-fdf6-9add1090028a",
        "colab": {
          "base_uri": "https://localhost:8080/",
          "height": 281
        }
      },
      "source": [
        "sobreviventes = titanic[['Age']].loc[titanic['Survived'] == 1]\n",
        "sobreviventes.hist(column='Age', bins = 20)\n",
        "plt.show()"
      ],
      "execution_count": null,
      "outputs": [
        {
          "output_type": "display_data",
          "data": {
            "image/png": "[encoded data removed]",
            "text/plain": [
              "<Figure size 432x288 with 1 Axes>"
            ]
          },
          "metadata": {
            "tags": [],
            "needs_background": "light"
          }
        }
      ]
    }
  ]
}