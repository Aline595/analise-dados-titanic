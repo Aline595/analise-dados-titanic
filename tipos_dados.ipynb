{
  "nbformat": 4,
  "nbformat_minor": 0,
  "metadata": {
    "colab": {
      "name": "Aula01.ipynb",
      "provenance": []
    },
    "kernelspec": {
      "name": "python3",
      "display_name": "Python 3"
    }
  },
  "cells": [
    {
      "cell_type": "markdown",
      "metadata": {
        "id": "3nTjx6gzL6RP"
      },
      "source": [
        "Vamos fazer juntos o primeiro \"*Alô, mundo!*\" em python:\n"
      ]
    },
    {
      "cell_type": "code",
      "metadata": {
        "id": "4pivNRf7Lvha",
        "outputId": "5fde5faa-7d7b-44b6-f14c-4a0ad25dbb6e",
        "colab": {
          "base_uri": "https://localhost:8080/",
          "height": 50
        }
      },
      "source": [
        "print(\"Alô, mundo!\")\n",
        "print('Alô, mundo!')"
      ],
      "execution_count": null,
      "outputs": [
        {
          "output_type": "stream",
          "text": [
            "Alô, mundo!\n",
            "Alô, mundo!\n"
          ],
          "name": "stdout"
        }
      ]
    },
    {
      "cell_type": "markdown",
      "metadata": {
        "id": "DQv-FOHOMzOJ"
      },
      "source": [
        "Reparem que aspas duplas e simples são equivalentes."
      ]
    },
    {
      "cell_type": "markdown",
      "metadata": {
        "id": "j0B9B9FTPMDq"
      },
      "source": [
        "**Tipos de dados:**"
      ]
    },
    {
      "cell_type": "markdown",
      "metadata": {
        "id": "XijlBb9WVn_y"
      },
      "source": [
        "*Numéricos:*"
      ]
    },
    {
      "cell_type": "code",
      "metadata": {
        "id": "9kgrnuqgOkMN",
        "outputId": "5c12f2b7-33ae-4c0d-f2bc-acfa5f068785",
        "colab": {
          "base_uri": "https://localhost:8080/",
          "height": 185
        }
      },
      "source": [
        "x = 3\n",
        "print(type(x))\n",
        "# Mostra \"<class 'int'>\"\n",
        "print(x)\n",
        "# Mostra \"3\"\n",
        "print(x + 1)\n",
        "# Adiciona e mostra \"4\"\n",
        "print(x - 1)\n",
        "# Subtrai e mostra \"2\"\n",
        "print(x * 2)\n",
        "# Multiplica e mostra \"6\"\n",
        "print(x ** 2)\n",
        "# Faz a exponenciação e mostra \"9\"\n",
        "x += 1\n",
        "print(x)\n",
        "# Mostra \"4\"\n",
        "x *= 2\n",
        "print(x)\n",
        "# Mostra \"8\"\n",
        "y = 2.5\n",
        "print(type(y))\n",
        "# Mostra \"<class 'float'>\"\n",
        "print(y, y + 1, y * 2, y ** 2)\n",
        "# Mostra \"2.5 3.5 5.0 6.25\""
      ],
      "execution_count": null,
      "outputs": [
        {
          "output_type": "stream",
          "text": [
            "<class 'int'>\n",
            "3\n",
            "4\n",
            "2\n",
            "6\n",
            "9\n",
            "4\n",
            "8\n",
            "<class 'float'>\n",
            "2.5 3.5 5.0 6.25\n"
          ],
          "name": "stdout"
        }
      ]
    },
    {
      "cell_type": "markdown",
      "metadata": {
        "id": "cS-p3uIZQJS1"
      },
      "source": [
        "**Exercício:**\n",
        "Resolva uma equação de 2º grau na forma a.x² + b.x + c = 0.\n",
        "Lembre-se que:\n",
        "```\n",
        "delta = b² - 4.a.c,\n",
        "x1 = (-b + raiz(delta))/(2.a) e\n",
        "x2 = (-b - raiz(delta))/(2.a)\n",
        "```\n",
        "\n"
      ]
    },
    {
      "cell_type": "code",
      "metadata": {
        "id": "LD0VFXRvRh9X",
        "outputId": "c801c4ff-0b97-4a26-e8a7-8d0b3d5314c6",
        "colab": {
          "base_uri": "https://localhost:8080/",
          "height": 101
        }
      },
      "source": [
        "import math\n",
        "a = float(input(\"Entre com o valor de A:\"))\n",
        "b = float(input(\"Entre com o valor de B:\"))\n",
        "c = float(input(\"Entre com o valor de C:\"))\n",
        "delta = b**2 - 4*a*c\n",
        "x1 = (-b + math.sqrt(delta)) / (2*a)\n",
        "x2 = (-b - math.sqrt(delta)) / (2*a)\n",
        "print(\"Raízes: \", x1, \" e \", x2)"
      ],
      "execution_count": null,
      "outputs": [
        {
          "output_type": "stream",
          "text": [
            "Entre com os valores de a, b e c, respectivamente: \n",
            "2\n",
            "9\n",
            "4\n",
            "Raízes:  -0.5  e  -4.0\n"
          ],
          "name": "stdout"
        }
      ]
    },
    {
      "cell_type": "markdown",
      "metadata": {
        "id": "O57Gv_lnVvVF"
      },
      "source": [
        "*Lógicos:*"
      ]
    },
    {
      "cell_type": "code",
      "metadata": {
        "id": "docFVzlZV27c",
        "outputId": "810d204d-a747-48be-a086-5cb006138967",
        "colab": {
          "base_uri": "https://localhost:8080/",
          "height": 118
        }
      },
      "source": [
        "t = True\n",
        "f = False\n",
        "print(type(t))\n",
        "# Mostra \"<class 'bool'>\"\n",
        "print(t and f)\n",
        "# Trabalha o operador AND e mostra \"False\"\n",
        "print(t or f)\n",
        "# Trabalha o operador OR e mostra \"True\"\n",
        "print(not t)\n",
        "# Trabalha o operador NOT e mostra \"False\"\n",
        "print(t != f)\n",
        "# Trabalha o operador Diferença e mostra \"True\"\n",
        "print(t == f)\n",
        "# Trabalha o operador Igualdade e mostra \"False\""
      ],
      "execution_count": null,
      "outputs": [
        {
          "output_type": "stream",
          "text": [
            "<class 'bool'>\n",
            "False\n",
            "True\n",
            "False\n",
            "True\n",
            "False\n"
          ],
          "name": "stdout"
        }
      ]
    },
    {
      "cell_type": "markdown",
      "metadata": {
        "id": "lZ4CRVTRWyDE"
      },
      "source": [
        "*Strings:*"
      ]
    },
    {
      "cell_type": "code",
      "metadata": {
        "id": "KC0t58a2W1rD",
        "outputId": "b9b08063-4944-4b85-e51e-2bed01e2afb8",
        "colab": {
          "base_uri": "https://localhost:8080/",
          "height": 202
        }
      },
      "source": [
        "hello = 'hello'\n",
        "# String literais se usa aspa simples\n",
        "world = \"world\"\n",
        "# ou aspas dupla indiferentemente\n",
        "print(hello)\n",
        "# Mostra \"hello\"\n",
        "print(len(hello))\n",
        "# Identifica o tamanho da String e mostra “5”\n",
        "hw = hello + ' ' + world\n",
        "# Operador “+” concatena Strings\n",
        "print(hw)\n",
        "# Mostra \"hello world\"\n",
        "hw12 = '%s %s %d' % (hello, world, 12)\n",
        "# formata como o printf da linguagem C\n",
        "print(hw12)\n",
        "# Mostra \"hello world 12\"\n",
        "hw12 = '{} {} {}'.format(hello, world, 12)\n",
        "print(hw12)\n",
        "# Mostra \"hello world 12\"\n",
        "s = \"hello\"\n",
        "print(s.capitalize())\n",
        "# Coloca em maiúsculo o 1a letra e mostra \"Hello\"\n",
        "print(s.upper())\n",
        "# Converte para maiúsculo tudo e mostra \"HELLO\"\n",
        "print(s.rjust(7))\n",
        "# Justifica à direita e mostra \"  hello\"\n",
        "print(s.center(7))\n",
        "# Centraliza e mostra \" hello \"\n",
        "print(s.replace('l', '(ell)'))\n",
        "# troca todos ‘l’ por ‘ell’ e mostra \"he(ell)(ell)o\"\n",
        "print(' world '.strip()) # Tira os espaços do início e fim e mostra \"world\""
      ],
      "execution_count": null,
      "outputs": [
        {
          "output_type": "stream",
          "text": [
            "hello\n",
            "5\n",
            "hello world\n",
            "hello world 12\n",
            "hello world 12\n",
            "Hello\n",
            "HELLO\n",
            "  hello\n",
            " hello \n",
            "he(ell)(ell)o\n",
            "world\n"
          ],
          "name": "stdout"
        }
      ]
    },
    {
      "cell_type": "markdown",
      "metadata": {
        "id": "bEG6qGJgYV6x"
      },
      "source": [
        "**Estruturas de Dados**"
      ]
    },
    {
      "cell_type": "markdown",
      "metadata": {
        "id": "rrQI4XLBYbs_"
      },
      "source": [
        "*Listas (estrutura mutável):*"
      ]
    },
    {
      "cell_type": "code",
      "metadata": {
        "id": "YAELb9FoYgoR",
        "outputId": "43aae218-4389-42ab-c3cd-dee3d5f763d1",
        "colab": {
          "base_uri": "https://localhost:8080/",
          "height": 185
        }
      },
      "source": [
        "import random\n",
        "L = [5, 10, 2, 7, 4, 3]\n",
        "print(L)\n",
        "L.reverse()\n",
        "print(L)\n",
        "L.sort()\n",
        "print(L)\n",
        "random.shuffle(L)\n",
        "print(L)\n",
        "print(min(L))\n",
        "print(max(L))\n",
        "print(sum(L))\n",
        "print(sum(L) / len(L))\n",
        "L.append(8)\n",
        "print(L)\n",
        "del(L[2])\n",
        "print(L)"
      ],
      "execution_count": null,
      "outputs": [
        {
          "output_type": "stream",
          "text": [
            "[5, 10, 2, 7, 4, 3]\n",
            "[3, 4, 7, 2, 10, 5]\n",
            "[2, 3, 4, 5, 7, 10]\n",
            "[7, 10, 3, 2, 5, 4]\n",
            "2\n",
            "10\n",
            "31\n",
            "5.166666666666667\n",
            "[7, 10, 3, 2, 5, 4, 8]\n",
            "[7, 10, 2, 5, 4, 8]\n"
          ],
          "name": "stdout"
        }
      ]
    },
    {
      "cell_type": "code",
      "metadata": {
        "id": "p61ExfRgkUSC",
        "outputId": "7c5dd19f-0220-40d6-bf82-b640883ca380",
        "colab": {
          "base_uri": "https://localhost:8080/",
          "height": 168
        }
      },
      "source": [
        "xs = [3, 1, 2, 'texto']\n",
        "# Cria a lista\n",
        "print(xs, xs[2])\n",
        "# Mostra \"[3, 1, 2] 2\"\n",
        "print(xs[-1])\n",
        "# Indices negativos contam a partir do fim da lista e mostra \"texto\"\n",
        "xs[2] = 'texto'\n",
        "# Listas podem ter elementos de tipos diferentes\n",
        "print(xs)\n",
        "# Mostra \"[3, 1, 'texto']\"\n",
        "xs.append('outro')\n",
        "# Coloca um novo elemento no fim da lista\n",
        "print(xs)\n",
        "# Mostra \"[3, 1, 'texto', 'outro']\"\n",
        "x = xs.pop()\n",
        "# Remove e retorna o ultimo elemento da lista\n",
        "print(x, xs)\n",
        "# Mostra \"outro [3, 1, 'texto']\"\n",
        "animais = ['gato', 'cachorro', 'macaco']\n",
        "print(animais)\n",
        "# A seguir um Loop com a lista animais\n",
        "for animal in animais:\n",
        "  print(animal)\n",
        "# O recurso de Loop (repetição) acima conheceremos na próxima aula"
      ],
      "execution_count": null,
      "outputs": [
        {
          "output_type": "stream",
          "text": [
            "[3, 1, 2, 'texto'] 2\n",
            "texto\n",
            "[3, 1, 'texto', 'texto']\n",
            "[3, 1, 'texto', 'texto', 'outro']\n",
            "outro [3, 1, 'texto', 'texto']\n",
            "['gato', 'cachorro', 'macaco']\n",
            "gato\n",
            "cachorro\n",
            "macaco\n"
          ],
          "name": "stdout"
        }
      ]
    },
    {
      "cell_type": "code",
      "metadata": {
        "id": "xyt3ijoKnX-L",
        "outputId": "7b416c70-78bc-4ae2-8a23-ab8ec65bd280",
        "colab": {
          "base_uri": "https://localhost:8080/",
          "height": 168
        }
      },
      "source": [
        "l1 = list(range(5))\n",
        "print('lista 1 = ', l1)\n",
        "l2 = list(range(3,8))\n",
        "print('lista 2 = ', l2)\n",
        "l3 = list(range(2,11,3))\n",
        "print('lista 3 = ', l3)\n",
        "l4 = l1 + l2\n",
        "print('lista 4 = ', l4)\n",
        "l5 = l3 * 4\n",
        "print('lista 5 = ', l5)\n",
        "l6 = [9 , 'texto' , 5.7 , [16, 11 , 18] , \"Python\" , [7 , 8]]\n",
        "print('lista 6 = ', l6)\n",
        "l7 = l6[1:4]\n",
        "print('lista 7 = ', l7)\n",
        "l8 = l6[2:]\n",
        "print('lista 8 = ', l8)\n",
        "l9 = l6[:4]\n",
        "print('lista 9 = ', l9)"
      ],
      "execution_count": null,
      "outputs": [
        {
          "output_type": "stream",
          "text": [
            "lista 1 =  [0, 1, 2, 3, 4]\n",
            "lista 2 =  [3, 4, 5, 6, 7]\n",
            "lista 3 =  [2, 5, 8]\n",
            "lista 4 =  [0, 1, 2, 3, 4, 3, 4, 5, 6, 7]\n",
            "lista 5 =  [2, 5, 8, 2, 5, 8, 2, 5, 8, 2, 5, 8]\n",
            "lista 6 =  [9, 'texto', 5.7, [16, 11, 18], 'Python', [7, 8]]\n",
            "lista 7 =  ['texto', 5.7, [16, 11, 18]]\n",
            "lista 8 =  [5.7, [16, 11, 18], 'Python', [7, 8]]\n",
            "lista 9 =  [9, 'texto', 5.7, [16, 11, 18]]\n"
          ],
          "name": "stdout"
        }
      ]
    },
    {
      "cell_type": "markdown",
      "metadata": {
        "id": "ISpFvGMGqLIZ"
      },
      "source": [
        "*Dicionários:*"
      ]
    },
    {
      "cell_type": "code",
      "metadata": {
        "id": "wosrQ94hqP3M",
        "outputId": "564aa0ab-dbc6-49c7-b14e-5ff96a204e97",
        "colab": {
          "base_uri": "https://localhost:8080/",
          "height": 134
        }
      },
      "source": [
        "Precos = {'lapis': 5.5, 'borracha': 7.0, 'caneta': 6.5}\n",
        "print(Precos)\n",
        "print(\"o preco da borracha eh:\", Precos ['borracha'])\n",
        "print(Precos.keys())\n",
        "print(Precos.values())\n",
        "print('caneta' in Precos)\n",
        "print('caderno' in Precos)\n",
        "del Precos['borracha']\n",
        "print(Precos)"
      ],
      "execution_count": null,
      "outputs": [
        {
          "output_type": "stream",
          "text": [
            "{'lapis': 5.5, 'borracha': 7.0, 'caneta': 6.5}\n",
            "o preco da borracha eh: 7.0\n",
            "dict_keys(['lapis', 'borracha', 'caneta'])\n",
            "dict_values([5.5, 7.0, 6.5])\n",
            "True\n",
            "False\n",
            "{'lapis': 5.5, 'caneta': 6.5}\n"
          ],
          "name": "stdout"
        }
      ]
    },
    {
      "cell_type": "code",
      "metadata": {
        "id": "ZahtgD_lq6FL",
        "outputId": "0b55a0f6-7111-4b47-cbac-b0f9aa6c9b1b",
        "colab": {
          "base_uri": "https://localhost:8080/",
          "height": 134
        }
      },
      "source": [
        "d = {'gato': 'cat', 'cachorro': 'dog'}\n",
        "# Cria um novo dicionário com alguns dados\n",
        "print(d['gato'])\n",
        "# Identifica significado de uma entrada e mostra \"cat\"\n",
        "print('gato' in d)\n",
        "# Verifica se uma chave está e mostra \"True\"\n",
        "print(d)\n",
        "d['peixe'] = 'fish'\n",
        "# Inclui um element em um dicionário\n",
        "print(d['peixe'])\n",
        "# Mostra \"fish\"\n",
        "print(d['macaco'])\n",
        "# KeyError: 'macaco' porque não é uma chave do dicionário d\n",
        "print(d.get('macaco', 'N/A'))\n",
        "# Busca um elemento com valor default para falha, mostra \"N/A\"\n",
        "print(d.get('peixe', 'N/A'))\n",
        "# Busca um elemento com valor default para falha, mostra \"fish\"\n",
        "del d['peixe']\n",
        "# Remove um element do dicionário\n",
        "print(d.get('peixe', 'N/A'))\n",
        "# Busca um elemento com valor default para falha, mostra \"N/A\""
      ],
      "execution_count": null,
      "outputs": [
        {
          "output_type": "stream",
          "text": [
            "cat\n",
            "True\n",
            "{'gato': 'cat', 'cachorro': 'dog'}\n",
            "fish\n",
            "N/A\n",
            "fish\n",
            "N/A\n"
          ],
          "name": "stdout"
        }
      ]
    },
    {
      "cell_type": "markdown",
      "metadata": {
        "id": "gyALEYhGrQlR"
      },
      "source": [
        "**Exercício:** Como poderíamos usar dicionários para internacionalizar (traduzir) um software?"
      ]
    },
    {
      "cell_type": "code",
      "metadata": {
        "id": "XYymR4LXrGNM",
        "outputId": "f09cd0d2-fab5-41ea-c88a-c24d3f4b23cf",
        "colab": {
          "base_uri": "https://localhost:8080/",
          "height": 103
        }
      },
      "source": [
        "import os\n",
        "print(os.getenv('LANG'))\n",
        "idioma = os.getenv('LANG')[:2]\n",
        "print(idioma)\n",
        "strings={'pt' : {'rotulo1' : 'Nome:', 'rotulo2' : 'Endereço:', 'rotulo3' : 'Idade:'} ,\n",
        "         'en' : {'rotulo1' : 'Name:', 'rotulo2' : 'Address:', 'rotulo3' : 'Age:'} ,\n",
        "         'es' : {'rotulo1' : 'Nombre:', 'rotulo2' : 'Dirección:', 'rotulo3' : 'Edad:'} }\n",
        "print(strings[idioma]['rotulo1'])\n",
        "print(strings[idioma]['rotulo2'])\n",
        "print(strings[idioma]['rotulo3'])"
      ],
      "execution_count": null,
      "outputs": [
        {
          "output_type": "stream",
          "text": [
            "en_US.UTF-8\n",
            "en\n",
            "Name:\n",
            "Address:\n",
            "Age:\n"
          ],
          "name": "stdout"
        }
      ]
    },
    {
      "cell_type": "markdown",
      "metadata": {
        "id": "N6f0hx1d02DU"
      },
      "source": [
        "*Sets (conjuntos):*"
      ]
    },
    {
      "cell_type": "markdown",
      "metadata": {
        "id": "6SMzsftl1CaK"
      },
      "source": [
        "Sets são conjuntos não ordenados de elementos (sem repetição)"
      ]
    },
    {
      "cell_type": "code",
      "metadata": {
        "id": "XjVPKrYW1AvA",
        "outputId": "090ad9f0-e2b5-455e-e072-f4fc19f0acd9",
        "colab": {
          "base_uri": "https://localhost:8080/",
          "height": 151
        }
      },
      "source": [
        "animais = {'gato', 'cachorro'}\n",
        "print('gato' in animais)\n",
        "# Verifica se um elemento está no set e mostra \"True\"\n",
        "print('peixe' in animais)\n",
        "# Mostra \"False\"\n",
        "animais.add('peixe')\n",
        "# Inclui um elemento no set\n",
        "print('peixe' in animais)\n",
        "# Mostra \"True\"\n",
        "print(len(animais))\n",
        "# Identifica o número de elementos do set e mostra \"3\"\n",
        "animais.add('gato')\n",
        "# Incluir um elemento que já existem não faz nada\n",
        "print(len(animais))\n",
        "# Mostra \"3\"\n",
        "print(animais)\n",
        "animais.remove('gato')\n",
        "print(animais)\n",
        "# Remove um elemento do set\n",
        "print(len(animais))\n",
        "# Mostra \"2\""
      ],
      "execution_count": null,
      "outputs": [
        {
          "output_type": "stream",
          "text": [
            "True\n",
            "False\n",
            "True\n",
            "3\n",
            "3\n",
            "{'gato', 'peixe', 'cachorro'}\n",
            "{'peixe', 'cachorro'}\n",
            "2\n"
          ],
          "name": "stdout"
        }
      ]
    },
    {
      "cell_type": "markdown",
      "metadata": {
        "id": "-5AcP2tZQ8lT"
      },
      "source": [
        "Outro exemplo de conjuntos:"
      ]
    },
    {
      "cell_type": "code",
      "metadata": {
        "id": "yM3oCKcPQfO3",
        "outputId": "73e9b5c0-e520-4774-829b-90e1b9c6eb5c",
        "colab": {
          "base_uri": "https://localhost:8080/",
          "height": 328
        }
      },
      "source": [
        "profPaulista = {'Menezes', 'Bruno', 'Giocondo'}\n",
        "profButanta = {'Menezes', 'Nelson', 'Kalili'}\n",
        "profMooca = {'Nelson', 'Duduchi', 'Gabriela', 'Giocondo'}\n",
        "profUSJT = profPaulista.union(profButanta, profMooca)\n",
        "print('Todos os professores da USJT:', profUSJT)\n",
        "for x in profUSJT:\n",
        "  print(x)\n",
        "profPaulistaEButanta = profPaulista.intersection(profButanta)\n",
        "print('Todos os professores da Paulista e Butantã ao mesmo tempo:', profPaulistaEButanta)\n",
        "#Como não dá para ordenar um conjunto, vamos copiá-lo para uma lista e aí sim ordená-lo:\n",
        "listaProfUSJT = list(profUSJT)\n",
        "listaProfUSJT.sort()\n",
        "print('Lista ordenada dos professores da USJT: ', listaProfUSJT)\n",
        "for x in listaProfUSJT:\n",
        "  print(x)"
      ],
      "execution_count": null,
      "outputs": [
        {
          "output_type": "stream",
          "text": [
            "Todos os professores da USJT: {'Kalili', 'Nelson', 'Gabriela', 'Menezes', 'Giocondo', 'Bruno', 'Duduchi'}\n",
            "Kalili\n",
            "Nelson\n",
            "Gabriela\n",
            "Menezes\n",
            "Giocondo\n",
            "Bruno\n",
            "Duduchi\n",
            "Todos os professores da Paulista e Butantã ao mesmo tempo: {'Menezes'}\n",
            "Lista ordenada dos professores da USJT:  ['Bruno', 'Duduchi', 'Gabriela', 'Giocondo', 'Kalili', 'Menezes', 'Nelson']\n",
            "Bruno\n",
            "Duduchi\n",
            "Gabriela\n",
            "Giocondo\n",
            "Kalili\n",
            "Menezes\n",
            "Nelson\n"
          ],
          "name": "stdout"
        }
      ]
    },
    {
      "cell_type": "markdown",
      "metadata": {
        "id": "Lp_1IyWu2q_J"
      },
      "source": [
        "*Tuplas*"
      ]
    },
    {
      "cell_type": "markdown",
      "metadata": {
        "id": "jNymbaOi2vqK"
      },
      "source": [
        "Tuplas são listas que não podem ser alteradas (imutáveis). Em tuplas usamos parênteses “( )”."
      ]
    },
    {
      "cell_type": "code",
      "metadata": {
        "id": "PqNv2WES21Dd",
        "outputId": "56995f26-33d7-4942-b2b3-f5a55d83efef",
        "colab": {
          "base_uri": "https://localhost:8080/",
          "height": 51
        }
      },
      "source": [
        "tp1 = (1,2,3,4,5,6)\n",
        "# Cria uma tupla\n",
        "print(tp1)\n",
        "# Mostra a tupla (1, 2, 3, 4, 5, 6)\n",
        "print(tp1[4])\n",
        "# Mostra “5”"
      ],
      "execution_count": null,
      "outputs": [
        {
          "output_type": "stream",
          "text": [
            "(1, 2, 3, 4, 5, 6)\n",
            "5\n"
          ],
          "name": "stdout"
        }
      ]
    },
    {
      "cell_type": "code",
      "metadata": {
        "id": "ym7FRLku5Xky",
        "outputId": "e6fb659d-3690-4869-8348-135585086639",
        "colab": {
          "base_uri": "https://localhost:8080/",
          "height": 104
        }
      },
      "source": [
        "d = {(0, 1): 0, (1, 2): 1, (2, 3): 2, (3, 4): 3, (4, 5): 4,\n",
        "(5, 6): 5, (6, 7): 6, (7, 8): 7, (8, 9): 8, (9, 10): 9}\n",
        "# Cria dicionários com tuplas como chaves\n",
        "print(d)\n",
        "# Mostra todas as tuplas do dicionário\n",
        "tp2 = (5, 6)\n",
        "# Cria uma tupla\n",
        "print(type(tp2))\n",
        "# Mostra \"<class 'tuple'>\"\n",
        "print(d[tp2])\n",
        "# Mostra \"5\"\n",
        "print(d[(1, 2)])\n",
        "# Mostra \"1\""
      ],
      "execution_count": null,
      "outputs": [
        {
          "output_type": "stream",
          "text": [
            "{(0, 1): 0, (1, 2): 1, (2, 3): 2, (3, 4): 3, (4, 5): 4, (5, 6): 5, (6, 7): 6, (7, 8): 7, (8, 9): 8, (9, 10): 9}\n",
            "<class 'tuple'>\n",
            "5\n",
            "1\n"
          ],
          "name": "stdout"
        }
      ]
    },
    {
      "cell_type": "code",
      "metadata": {
        "id": "-hqjklYy5yNh",
        "outputId": "02ac0271-b546-4117-b28a-74be292f5542",
        "colab": {
          "base_uri": "https://localhost:8080/",
          "height": 104
        }
      },
      "source": [
        "d = {(x, x + 1): x for x in range(10)}  # Comprehension\n",
        "# Cria dicionários com tuplas como chaves\n",
        "print(d)\n",
        "# Mostra todas as tuplas do dicionário\n",
        "# {(0, 1): 0, (1, 2): 1, (2, 3): 2, (3, 4): 3, (4, 5): 4,\n",
        "# (5, 6): 5, (6, 7): 6, (7, 8): 7, (8, 9): 8, (9, 10): 9}\n",
        "tp2 = (5, 6)\n",
        "# Cria uma tupla\n",
        "print(type(tp2))\n",
        "# Mostra \"<class 'tuple'>\"\n",
        "print(d[tp2])\n",
        "# Mostra \"5\"\n",
        "print(d[(1, 2)])\n",
        "# Mostra \"1\""
      ],
      "execution_count": null,
      "outputs": [
        {
          "output_type": "stream",
          "text": [
            "{(0, 1): 0, (1, 2): 1, (2, 3): 2, (3, 4): 3, (4, 5): 4, (5, 6): 5, (6, 7): 6, (7, 8): 7, (8, 9): 8, (9, 10): 9}\n",
            "<class 'tuple'>\n",
            "5\n",
            "1\n"
          ],
          "name": "stdout"
        }
      ]
    }
  ]
}