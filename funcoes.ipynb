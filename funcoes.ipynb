{
  "nbformat": 4,
  "nbformat_minor": 0,
  "metadata": {
    "colab": {
      "name": "Aula02.ipynb",
      "provenance": []
    },
    "kernelspec": {
      "name": "python3",
      "display_name": "Python 3"
    }
  },
  "cells": [
    {
      "cell_type": "markdown",
      "metadata": {
        "id": "I-s5WEqP-ye7"
      },
      "source": [
        "**Funções:**"
      ]
    },
    {
      "cell_type": "code",
      "metadata": {
        "id": "w2lCm19R-mrw",
        "outputId": "70ceca14-261f-40e1-8469-19712afced57",
        "colab": {
          "base_uri": "https://localhost:8080/",
          "height": 67
        }
      },
      "source": [
        "def soma(a,b):\n",
        "  c=a+b\n",
        "  return c\n",
        "\n",
        "def soma2(a,b):\n",
        "  return a+b\n",
        "\n",
        "soma3 = lambda a,b:a+b\n",
        "\n",
        "print(soma(2,3))\n",
        "print(soma2(2,3))\n",
        "print(soma3(2,3))\n"
      ],
      "execution_count": null,
      "outputs": [
        {
          "output_type": "stream",
          "text": [
            "5\n",
            "5\n",
            "5\n"
          ],
          "name": "stdout"
        }
      ]
    },
    {
      "cell_type": "markdown",
      "metadata": {
        "id": "596Ry6oqAZXb"
      },
      "source": [
        "**Entrada de dados e formatação:**"
      ]
    },
    {
      "cell_type": "code",
      "metadata": {
        "id": "hC2QWtHFA7cg",
        "outputId": "f338b6cd-1df0-419c-ed80-9007b8dd212e",
        "colab": {
          "base_uri": "https://localhost:8080/",
          "height": 67
        }
      },
      "source": [
        "def leitura():\n",
        "  nome = input(\"Digite seu nome:\")\n",
        "  sobrenome = input(\"Digite seu sobrenome:\")\n",
        "  nomecompleto = nome+\" \"+sobrenome\n",
        "  print(\"Seu nome completo é: \",nomecompleto)\n",
        "\n",
        "leitura()"
      ],
      "execution_count": null,
      "outputs": [
        {
          "output_type": "stream",
          "text": [
            "Digite seu nome:Carlos\n",
            "Digite seu sobrenome:Menezes\n",
            "Seu nome completo é:  Carlos Menezes\n"
          ],
          "name": "stdout"
        }
      ]
    },
    {
      "cell_type": "code",
      "metadata": {
        "id": "mDN28pP2BYMk",
        "outputId": "3b0086a2-b0fd-449d-e75a-619d8637b8e0",
        "colab": {
          "base_uri": "https://localhost:8080/",
          "height": 67
        }
      },
      "source": [
        "def potencia(a,b):\n",
        "  c=a**b\n",
        "  return c\n",
        "\n",
        "x = int(input(\"Digite um valor:\"))\n",
        "y = int(input(\"Digite o valor de potência:\"))\n",
        "print(potencia(x,y))"
      ],
      "execution_count": null,
      "outputs": [
        {
          "output_type": "stream",
          "text": [
            "Digite um valor:2\n",
            "Digite o valor de potência:3\n",
            "8\n"
          ],
          "name": "stdout"
        }
      ]
    },
    {
      "cell_type": "code",
      "metadata": {
        "id": "1i2E7FBhByL4",
        "outputId": "d88eb36e-bd38-4768-ce1e-5304ad87ce95",
        "colab": {
          "base_uri": "https://localhost:8080/",
          "height": 67
        }
      },
      "source": [
        "def soma(a,b):\n",
        "  c=a+b\n",
        "  return c\n",
        "\n",
        "x = float(input(\"Digite um valor:\"))\n",
        "y = float(input(\"Digite um valor:\"))\n",
        "print(soma(x,y))"
      ],
      "execution_count": null,
      "outputs": [
        {
          "output_type": "stream",
          "text": [
            "Digite um valor:2.5\n",
            "Digite um valor:3.6\n",
            "6.1\n"
          ],
          "name": "stdout"
        }
      ]
    },
    {
      "cell_type": "code",
      "metadata": {
        "id": "GoIepeR2CH8g",
        "outputId": "5aade23a-d4c4-4840-fe25-0232585cc358",
        "colab": {
          "base_uri": "https://localhost:8080/",
          "height": 86
        }
      },
      "source": [
        "s = 'Teste String'\n",
        "# alinha a direita com 20 espaços em branco\n",
        "print(\"{0:>20}\".format(s))\n",
        "# alinha a direita com 20 símbolos #\n",
        "print(\"{0:#>20}\".format(s))\n",
        "# alinha ao centro com 4 “ “ a esquerda e 4 “ “ a direita\n",
        "print(\"{0:^20}\".format(s))\n",
        "# imprime só as primeiras cinco letras\n",
        "print(\"{0:.5}\".format(s))"
      ],
      "execution_count": null,
      "outputs": [
        {
          "output_type": "stream",
          "text": [
            "        Teste String\n",
            "########Teste String\n",
            "    Teste String    \n",
            "Teste\n"
          ],
          "name": "stdout"
        }
      ]
    },
    {
      "cell_type": "code",
      "metadata": {
        "id": "N4jdSEBzDIpl",
        "outputId": "9485d37d-3bb0-4741-80c3-2414533769c2",
        "colab": {
          "base_uri": "https://localhost:8080/",
          "height": 118
        }
      },
      "source": [
        "print(\"{0:4}\".format(-123))\n",
        "# aparece '-123'\n",
        "print(\"{0:4}\".format(123))\n",
        "# aparece ' 123'\n",
        "print(\"{0:4.2f}\".format(33.3287))\n",
        "# aparece '33.33'\n",
        "print(\"{0:+4.2f}\".format(33.3287))\n",
        "# aparece '+33.33'\n",
        "print(\"{0:+4.2e}\".format(33.3287))\n",
        "# aparece '+3.33e+01'\n",
        "print(\"{0:b}\".format(123))\n",
        "# aparece '1111011'"
      ],
      "execution_count": null,
      "outputs": [
        {
          "output_type": "stream",
          "text": [
            "-123\n",
            " 123\n",
            "33.33\n",
            "+33.33\n",
            "+3.33e+01\n",
            "1111011\n"
          ],
          "name": "stdout"
        }
      ]
    },
    {
      "cell_type": "markdown",
      "metadata": {
        "id": "OE8rJwZYOYh3"
      },
      "source": [
        "**Estruturas de Decisão (Condicionais)**"
      ]
    },
    {
      "cell_type": "code",
      "metadata": {
        "id": "TaQe1jZeOcQt",
        "outputId": "6c4902f1-962b-441e-9fcf-59e02ad49d6c",
        "colab": {
          "base_uri": "https://localhost:8080/",
          "height": 51
        }
      },
      "source": [
        "nota = float(input(\"Digite sua nota na disciplina:\"))\n",
        "if nota >= 6.0:\n",
        "  print('Aprovado!')\n",
        "else:\n",
        "  print('Reprovado!')\n"
      ],
      "execution_count": null,
      "outputs": [
        {
          "output_type": "stream",
          "text": [
            "Digite sua nota na disciplina:8.5\n",
            "Aprovado!\n"
          ],
          "name": "stdout"
        }
      ]
    },
    {
      "cell_type": "code",
      "metadata": {
        "id": "r6Zud8b3O-HE",
        "outputId": "b4e5540d-7a5e-4a56-bddb-2dbf4a5dca9b",
        "colab": {
          "base_uri": "https://localhost:8080/",
          "height": 50
        }
      },
      "source": [
        "idade = int(input(\"Digite sua idade:\"))\n",
        "if idade < 3:\n",
        "  print('Bebê')\n",
        "elif idade < 10:\n",
        "  print('Infantil')\n",
        "elif idade < 14:\n",
        "  print('Junior')\n",
        "elif idade < 18:\n",
        "  print('Adolescente')\n",
        "elif idade < 30:\n",
        "  print('Jovem')\n",
        "else:\n",
        "  print('Adulto')"
      ],
      "execution_count": null,
      "outputs": [
        {
          "output_type": "stream",
          "text": [
            "Digite sua idade:43\n",
            "Adulto\n"
          ],
          "name": "stdout"
        }
      ]
    },
    {
      "cell_type": "markdown",
      "metadata": {
        "id": "wN30-83AgtFM"
      },
      "source": [
        "**Exercício:** Faça um programa que resolva uma equação de 2º grau, pensando em todas as possibilidades, como a) não ser equação de 2º grau, b) não ter raízes reais, c) ter apenas uma raiz real, e d) ter duas raízes reais:"
      ]
    },
    {
      "cell_type": "code",
      "metadata": {
        "id": "lHeV8KG-hHSx",
        "outputId": "1e7e7404-3602-4090-98bf-9229a7c1a3e2",
        "colab": {
          "base_uri": "https://localhost:8080/",
          "height": 86
        }
      },
      "source": [
        "from math import sqrt\n",
        "a = float(input('Digite o valor de A:'))\n",
        "b = float(input('Digite o valor de B:'))\n",
        "c = float(input('Digite o valor de C:'))\n",
        "\n",
        "delta = lambda a,b,c: b**2-4*a*c\n",
        "\n",
        "d = delta(a,b,c)\n",
        "if a == 0: print('Não é equação de 2º grau....')\n",
        "elif d < 0: print('Não tem raízes reais....')\n",
        "elif d == 0:\n",
        "  x = -b/(2*a)\n",
        "  print('A equação tem apenas uma raiz, x =', x)\n",
        "else:\n",
        "  x1 = (-b + sqrt(d))/(2*a)\n",
        "  x2 = (-b - sqrt(d))/(2*a)\n",
        "  print('A equação tem duas raízes reais:', x1, 'e', x2)"
      ],
      "execution_count": null,
      "outputs": [
        {
          "output_type": "stream",
          "text": [
            "Digite o valor de A:1\n",
            "Digite o valor de B:10\n",
            "Digite o valor de C:3\n",
            "A equação tem duas raízes reais: -0.30958424017657027 e -9.69041575982343\n"
          ],
          "name": "stdout"
        }
      ]
    },
    {
      "cell_type": "markdown",
      "metadata": {
        "id": "xLR2VQMsPffO"
      },
      "source": [
        "**Estruturas de Repetição**"
      ]
    },
    {
      "cell_type": "code",
      "metadata": {
        "id": "8REbmajUPi2E",
        "outputId": "316abb08-03a8-4d8f-c714-9d8cc5b1bc2f",
        "colab": {
          "base_uri": "https://localhost:8080/",
          "height": 51
        }
      },
      "source": [
        "senha = \"54321\"\n",
        "leitura = \" \"\n",
        "while leitura != senha:\n",
        "  leitura = input(\"Digite a senha: \")\n",
        "  if leitura == senha : print('Acesso liberado ')\n",
        "  else: print('Senha incorreta. Tente novamente')"
      ],
      "execution_count": null,
      "outputs": [
        {
          "output_type": "stream",
          "text": [
            "Digite a senha: 54321\n",
            "Acesso liberado \n"
          ],
          "name": "stdout"
        }
      ]
    },
    {
      "cell_type": "code",
      "metadata": {
        "id": "TmGu-nUZP_8S",
        "outputId": "8fb9de3c-e3b3-4093-84f0-ac7a7aa66b0a",
        "colab": {
          "base_uri": "https://localhost:8080/",
          "height": 118
        }
      },
      "source": [
        "contador = 0\n",
        "somador = 0\n",
        "while contador < 5:\n",
        "  contador = contador + 1\n",
        "  valor = float(input('Digite o '+str(contador)+'o valor: '))\n",
        "  somador = somador + valor\n",
        "\n",
        "print('Soma = ', somador)"
      ],
      "execution_count": null,
      "outputs": [
        {
          "output_type": "stream",
          "text": [
            "Digite o 1o valor: 6\n",
            "Digite o 2o valor: 8\n",
            "Digite o 3o valor: 4\n",
            "Digite o 4o valor: 10\n",
            "Digite o 5o valor: 7\n",
            "Soma =  35.0\n"
          ],
          "name": "stdout"
        }
      ]
    },
    {
      "cell_type": "code",
      "metadata": {
        "id": "tApviQpzQj_V",
        "outputId": "28d47872-2ec5-4f6d-f3a6-85510e738433",
        "colab": {
          "base_uri": "https://localhost:8080/",
          "height": 34
        }
      },
      "source": [
        "S=0\n",
        "for x in range(1,20,3):  # 1 + 4 + 7 + 10 + 13 + 16 + 19 = 70\n",
        "  S = S + x\n",
        "print('Soma = ',S)"
      ],
      "execution_count": null,
      "outputs": [
        {
          "output_type": "stream",
          "text": [
            "Soma =  70\n"
          ],
          "name": "stdout"
        }
      ]
    },
    {
      "cell_type": "markdown",
      "metadata": {
        "id": "O4T6_4OTnB4m"
      },
      "source": [
        "**Exercício:** Faça um programa que calcule a soma dos inteiros de 1 a N."
      ]
    },
    {
      "cell_type": "code",
      "metadata": {
        "id": "xLMgfz-Bm_jU",
        "outputId": "c9a7d4d9-f0f8-41f8-ffef-975b380eda35",
        "colab": {
          "base_uri": "https://localhost:8080/",
          "height": 51
        }
      },
      "source": [
        "n = int(input('Entre com o N:'))\n",
        "soma = 0\n",
        "i = 1\n",
        "while i <= n:\n",
        "  soma += i\n",
        "  i += 1\n",
        "print('A soma vale', soma)"
      ],
      "execution_count": null,
      "outputs": [
        {
          "output_type": "stream",
          "text": [
            "Entre com o N:10\n",
            "A soma vale 55\n"
          ],
          "name": "stdout"
        }
      ]
    },
    {
      "cell_type": "code",
      "metadata": {
        "id": "l63fzPDGogfd",
        "outputId": "b7bf6f97-6587-4da9-f9c2-a846fdd583c7",
        "colab": {
          "base_uri": "https://localhost:8080/",
          "height": 51
        }
      },
      "source": [
        "n = int(input('Entre com o N:'))\n",
        "soma = 0\n",
        "for i in range(n+1):\n",
        "  soma += i\n",
        "print('A soma vale', soma)"
      ],
      "execution_count": null,
      "outputs": [
        {
          "output_type": "stream",
          "text": [
            "Entre com o N:10\n",
            "A soma vale 55\n"
          ],
          "name": "stdout"
        }
      ]
    },
    {
      "cell_type": "code",
      "metadata": {
        "id": "MC23IY3zQ_gT",
        "outputId": "304dc2a5-4bbe-485e-d7f3-0d7047d41c99",
        "colab": {
          "base_uri": "https://localhost:8080/",
          "height": 51
        }
      },
      "source": [
        "def CalcMedia(lista):\n",
        "  soma=0\n",
        "  for nota in lista:\n",
        "    soma = soma + nota\n",
        "  return soma/len(lista)\n",
        "\n",
        "CalcMedia2 = lambda lista: sum(lista)/len(lista)\n",
        "\n",
        "Lista_notas= [3.4,6.6,8,9,10,9.5,8.8,4.3]\n",
        "media = CalcMedia(Lista_notas)\n",
        "print('Média = ', '{:.4f}'.format(media))\n",
        "print('Média = ', '{:.4f}'.format(CalcMedia2(Lista_notas)))"
      ],
      "execution_count": null,
      "outputs": [
        {
          "output_type": "stream",
          "text": [
            "Média =  7.4500\n",
            "Média =  7.4500\n"
          ],
          "name": "stdout"
        }
      ]
    },
    {
      "cell_type": "markdown",
      "metadata": {
        "id": "KZmNoCkFTKlw"
      },
      "source": [
        "**Exercícios:**"
      ]
    },
    {
      "cell_type": "code",
      "metadata": {
        "id": "0RjZZ15sTN9V",
        "outputId": "42aab5cc-f912-4396-acc8-8f8136a3cef4",
        "colab": {
          "base_uri": "https://localhost:8080/",
          "height": 51
        }
      },
      "source": [
        "tempc = [23,18,32,16,21] #temperaturas em graus Celsius\n",
        "tempf = [] #temperaturas em graus Fahrenheit\n",
        "for valor in tempc:\n",
        "  tempf.append((valor * 9/5) + 32)\n",
        "\n",
        "print(tempc)\n",
        "print(tempf)"
      ],
      "execution_count": null,
      "outputs": [
        {
          "output_type": "stream",
          "text": [
            "[23, 18, 32, 16, 21]\n",
            "[73.4, 64.4, 89.6, 60.8, 69.8]\n"
          ],
          "name": "stdout"
        }
      ]
    },
    {
      "cell_type": "markdown",
      "metadata": {
        "id": "eZAcp6fuULUU"
      },
      "source": [
        "*Alternativamente ao uso do “for in” é usarmos o recurso de “lambda” com a inclusão do map para construir a nova lista. Veja a seguir a alternativa:*"
      ]
    },
    {
      "cell_type": "code",
      "metadata": {
        "id": "x2usmT7UVIaq",
        "outputId": "c4a5cf39-c78a-496c-88c3-e78c47375dda",
        "colab": {
          "base_uri": "https://localhost:8080/",
          "height": 50
        }
      },
      "source": [
        "lista = [1,2,3,4,5]\n",
        "dobro = list(map(lambda x:2*x, lista))\n",
        "print(lista)\n",
        "print(dobro)"
      ],
      "execution_count": null,
      "outputs": [
        {
          "output_type": "stream",
          "text": [
            "[1, 2, 3, 4, 5]\n",
            "[2, 4, 6, 8, 10]\n"
          ],
          "name": "stdout"
        }
      ]
    },
    {
      "cell_type": "code",
      "metadata": {
        "id": "ZP2F584yUQEx",
        "outputId": "852c52ba-395c-4826-8e3b-7447efbcf431",
        "colab": {
          "base_uri": "https://localhost:8080/",
          "height": 50
        }
      },
      "source": [
        "tempc = [23,18,32,16,21]\n",
        "tempf = list(map(lambda x:(x * 9/5)+32,tempc))\n",
        "print(tempc)\n",
        "print(tempf)"
      ],
      "execution_count": null,
      "outputs": [
        {
          "output_type": "stream",
          "text": [
            "[23, 18, 32, 16, 21]\n",
            "[73.4, 64.4, 89.6, 60.8, 69.8]\n"
          ],
          "name": "stdout"
        }
      ]
    },
    {
      "cell_type": "markdown",
      "metadata": {
        "id": "4CESp4c7UUGf"
      },
      "source": [
        "*Dissecando o código acima:*"
      ]
    },
    {
      "cell_type": "code",
      "metadata": {
        "id": "FKG95r8VUZXr",
        "outputId": "c14e6c71-0cec-48af-caed-973cc3e6b235",
        "colab": {
          "base_uri": "https://localhost:8080/",
          "height": 119
        }
      },
      "source": [
        "lista = [1,2,3,4,5]\n",
        "m = map(lambda x:2*x, lista) #map é um gerador\n",
        "print(m, type(m))\n",
        "print(next(m))\n",
        "print(next(m))\n",
        "print(next(m))\n",
        "print(next(m))\n",
        "print(next(m))"
      ],
      "execution_count": null,
      "outputs": [
        {
          "output_type": "stream",
          "text": [
            "<map object at 0x7f2247ce33c8> <class 'map'>\n",
            "2\n",
            "4\n",
            "6\n",
            "8\n",
            "10\n"
          ],
          "name": "stdout"
        }
      ]
    },
    {
      "cell_type": "markdown",
      "metadata": {
        "id": "lBiAvXV8ZfFC"
      },
      "source": [
        "*Mais um exemplo de Gerador usando Comprehension:*"
      ]
    },
    {
      "cell_type": "code",
      "metadata": {
        "id": "z6QdAE7_Zlef",
        "outputId": "e7276bce-9837-4b8f-847c-c410628d0b4c",
        "colab": {
          "base_uri": "https://localhost:8080/",
          "height": 224
        }
      },
      "source": [
        "ger = (i*i for i in range(100))\n",
        "print(ger, type(ger))\n",
        "print(next(ger))\n",
        "print(next(ger))\n",
        "print(next(ger))\n",
        "print(next(ger))\n",
        "\n",
        "ger2 = (i*i for i in range(100) if i % 2 == 0)\n",
        "print(next(ger2))\n",
        "print(next(ger2))\n",
        "print(next(ger2))\n",
        "print(next(ger2))\n",
        "print(list(ger2))\n",
        "print(list(ger2))"
      ],
      "execution_count": null,
      "outputs": [
        {
          "output_type": "stream",
          "text": [
            "<generator object <genexpr> at 0x7f22400572b0> <class 'generator'>\n",
            "0\n",
            "1\n",
            "4\n",
            "9\n",
            "0\n",
            "4\n",
            "16\n",
            "36\n",
            "[64, 100, 144, 196, 256, 324, 400, 484, 576, 676, 784, 900, 1024, 1156, 1296, 1444, 1600, 1764, 1936, 2116, 2304, 2500, 2704, 2916, 3136, 3364, 3600, 3844, 4096, 4356, 4624, 4900, 5184, 5476, 5776, 6084, 6400, 6724, 7056, 7396, 7744, 8100, 8464, 8836, 9216, 9604]\n",
            "[]\n"
          ],
          "name": "stdout"
        }
      ]
    },
    {
      "cell_type": "markdown",
      "metadata": {
        "id": "2esGWWcqufXw"
      },
      "source": [
        "**Exercício:** Crie um código para calcular o **maior** elemento de uma lista."
      ]
    },
    {
      "cell_type": "code",
      "metadata": {
        "id": "BcL2jOKCuozn",
        "outputId": "a6c1f6df-8af7-46ab-f227-5abbc37c2f36",
        "colab": {
          "base_uri": "https://localhost:8080/",
          "height": 34
        }
      },
      "source": [
        "def MaiorValor(lista):\n",
        "  if len(lista) > 0:\n",
        "    maior = lista[0]\n",
        "  else:\n",
        "    maior = 0;\n",
        "  for valor in lista:\n",
        "    if valor > maior:\n",
        "      maior = valor\n",
        "  return maior\n",
        "\n",
        "ListaNotas= [3.4,6.6,8,9,10,9.5,8.8,4.3]\n",
        "resultado = MaiorValor(ListaNotas)\n",
        "print(resultado)"
      ],
      "execution_count": null,
      "outputs": [
        {
          "output_type": "stream",
          "text": [
            "10\n"
          ],
          "name": "stdout"
        }
      ]
    },
    {
      "cell_type": "code",
      "metadata": {
        "id": "DloUwtozvFKb",
        "outputId": "87bc75ec-a780-4d80-cdf4-26e60dfc44cc",
        "colab": {
          "base_uri": "https://localhost:8080/",
          "height": 103
        }
      },
      "source": [
        "#Mais simples\n",
        "ListaNotas= [3.4,6.6,8,9,10,9.5,8.8,4.3]\n",
        "print('Maior =', max(ListaNotas)) #maior\n",
        "#Além disso, lembrem-se de nunca esquecer disso também:\n",
        "print('Menor =', min(ListaNotas)) #menor\n",
        "print('Soma =', sum(ListaNotas)) #soma\n",
        "print('Tamanho =', len(ListaNotas)) #tamanho\n",
        "print('Média =', sum(ListaNotas)/len(ListaNotas))"
      ],
      "execution_count": null,
      "outputs": [
        {
          "output_type": "stream",
          "text": [
            "Maior = 10\n",
            "Menor = 3.4\n",
            "Soma = 59.599999999999994\n",
            "Tamanho = 8\n",
            "Média = 7.449999999999999\n"
          ],
          "name": "stdout"
        }
      ]
    }
  ]
}