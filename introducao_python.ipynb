{
  "nbformat": 4,
  "nbformat_minor": 0,
  "metadata": {
    "colab": {
      "name": "Untitled2.ipynb",
      "provenance": [],
      "collapsed_sections": []
    },
    "kernelspec": {
      "name": "python3",
      "display_name": "Python 3"
    }
  },
  "cells": [
    {
      "cell_type": "markdown",
      "metadata": {
        "id": "OBTyXgKePjy7"
      },
      "source": [
        ""
      ]
    },
    {
      "cell_type": "code",
      "metadata": {
        "id": "mxMdv_5RD5JP",
        "outputId": "bb57f03c-ad83-4065-f49a-8ade340d7cb4",
        "colab": {
          "base_uri": "https://localhost:8080/",
          "height": 34
        },
        "tags": []
      },
      "source": [
        "print('Oi')"
      ],
      "execution_count": 1,
      "outputs": [
        {
          "output_type": "stream",
          "name": "stdout",
          "text": "Oi\n"
        }
      ]
    },
    {
      "cell_type": "code",
      "metadata": {
        "id": "7wW0VRpODIoM",
        "outputId": "f944ed70-304b-43c4-d9fa-08f12ca972bc",
        "colab": {
          "base_uri": "https://localhost:8080/",
          "height": 68
        }
      },
      "source": [
        "print(\"Hello word\")\n",
        "print(\"'Hello word'\")\n",
        "print('\"Hello word\"')"
      ],
      "execution_count": null,
      "outputs": [
        {
          "output_type": "stream",
          "text": [
            "Hello word\n",
            "'Hello word'\n",
            "\"Hello word\"\n"
          ],
          "name": "stdout"
        }
      ]
    },
    {
      "cell_type": "code",
      "metadata": {
        "id": "MvK28ZAipFsP",
        "outputId": "35f2f3b3-bc55-406c-af67-ed357dde5419",
        "colab": {
          "base_uri": "https://localhost:8080/",
          "height": 68
        }
      },
      "source": [
        "print('Digite a sua idade:')\n",
        "idade = int(input())\n",
        "if idade >=18: print ('Você é maior')\n",
        "elif idade >= 60: print ('Você já é idoso')\n",
        "elif idade < 18: print ('Você é menor de idade')\n",
        "else: ('Aparentemente você sobrou')"
      ],
      "execution_count": null,
      "outputs": [
        {
          "output_type": "stream",
          "text": [
            "Digite a sua idade:\n",
            "7\n",
            "Você é menor de idade\n"
          ],
          "name": "stdout"
        }
      ]
    },
    {
      "cell_type": "markdown",
      "metadata": {
        "id": "m6mbATVECYdS"
      },
      "source": [
        "Teste 1, 2, 3!!\n"
      ]
    },
    {
      "cell_type": "code",
      "metadata": {
        "id": "Jv6kYc3LCcMd",
        "outputId": "924e0ee2-1a57-41fc-8577-c98792b5f28a",
        "colab": {
          "base_uri": "https://localhost:8080/",
          "height": 51
        }
      },
      "source": [
        "print(\"Alô, mundo!!\")\n",
        "print('Alô, mundo!!')\n"
      ],
      "execution_count": null,
      "outputs": [
        {
          "output_type": "stream",
          "text": [
            "Alô, mundo!!\n",
            "Alô, mundo!!\n"
          ],
          "name": "stdout"
        }
      ]
    },
    {
      "cell_type": "markdown",
      "metadata": {
        "id": "Un6xqkYrQfYO"
      },
      "source": [
        "**Resolução de uma equação do 2º grau:**"
      ]
    },
    {
      "cell_type": "code",
      "metadata": {
        "id": "asGuCTk6Qcni"
      },
      "source": [
        "import math\n",
        "a = float(input(\"Entre com o valor de A:\"))\n",
        "b = float(input(\"Entre com o valor de B:\"))\n",
        "c = float(input(\"Entre com o valor de C:\"))\n",
        "delta = b**2 - 4*a*c\n",
        "x1 = (-b+math.sqrt(delta))/(2*a)\n",
        "x2 = (-b-math.sqrt(delta))/(2*a)\n",
        "print('X1 =', x1, '  X2 =', x2)"
      ],
      "execution_count": null,
      "outputs": []
    },
    {
      "cell_type": "code",
      "metadata": {
        "id": "_vvIHnOhTgZD",
        "outputId": "ef348cc8-a9f5-4e9a-f8d8-e6bb91b8edbd",
        "colab": {
          "base_uri": "https://localhost:8080/",
          "height": 51
        }
      },
      "source": [
        "str = \"teste\"\n",
        "print(str.capitalize())\n",
        "print(str.upper())\n",
        "print(str.)"
      ],
      "execution_count": null,
      "outputs": [
        {
          "output_type": "stream",
          "text": [
            "Teste\n",
            "TESTE\n"
          ],
          "name": "stdout"
        }
      ]
    },
    {
      "cell_type": "code",
      "metadata": {
        "id": "ZPvIP_a0RMp0",
        "outputId": "4b1ac6f5-7e33-48ba-d72c-e53a4737f0b0",
        "colab": {
          "base_uri": "https://localhost:8080/",
          "height": 34
        }
      },
      "source": [
        "L = [2, 7, 4, 10, -1, 12, 5, [1, 2, 3]]\n",
        "print(L[-1][0])"
      ],
      "execution_count": null,
      "outputs": [
        {
          "output_type": "stream",
          "text": [
            "1\n"
          ],
          "name": "stdout"
        }
      ]
    },
    {
      "cell_type": "markdown",
      "metadata": {
        "id": "37VtOoHWfIaK"
      },
      "source": [
        "**Manipulando Listas**"
      ]
    },
    {
      "cell_type": "code",
      "metadata": {
        "id": "O2YZwMCnUFIj",
        "outputId": "817f6916-8311-409f-9aeb-0ada5db5db72",
        "colab": {
          "base_uri": "https://localhost:8080/",
          "height": 428
        }
      },
      "source": [
        "import random\n",
        "#Vamos criar uma lista\n",
        "L = [2, 7, 4, 10, -1, 12, 5]\n",
        "print(L)\n",
        "L.sort() #Timsort\n",
        "print(L)\n",
        "L.reverse()\n",
        "print(L)\n",
        "random.shuffle(L)\n",
        "print(L)\n",
        "random.shuffle(L)\n",
        "print(L)\n",
        "L.append(2.5)\n",
        "print(L)\n",
        "print('Mínimo =',min(L),' Máximo =', max(L))\n",
        "L.append('Oi')\n",
        "print(L)\n",
        "L.append([1,2,3])\n",
        "print(L)\n",
        "print('Mostrando o 4º elemento:', L[3])\n",
        "print('Mostrando o elemento de índice -1:', L[-1])\n",
        "print('Mostrando o elemento de índice -2:', L[-2])\n",
        "print('Mostrando o elemento de índice 9:', L[9])\n",
        "print('Agora vou retirar o último elemento, que é ', L.pop())\n",
        "print('Mostrando todos os elementos (um a um):')\n",
        "for x in L:\n",
        "  print(x, type(x))"
      ],
      "execution_count": null,
      "outputs": [
        {
          "output_type": "stream",
          "text": [
            "[2, 7, 4, 10, -1, 12, 5]\n",
            "[-1, 2, 4, 5, 7, 10, 12]\n",
            "[12, 10, 7, 5, 4, 2, -1]\n",
            "[4, 10, -1, 12, 2, 7, 5]\n",
            "[5, 10, 12, 2, -1, 7, 4]\n",
            "[5, 10, 12, 2, -1, 7, 4, 2.5]\n",
            "Mínimo = -1  Máximo = 12\n",
            "[5, 10, 12, 2, -1, 7, 4, 2.5, 'Oi']\n",
            "[5, 10, 12, 2, -1, 7, 4, 2.5, 'Oi', [1, 2, 3]]\n",
            "Mostrando o 4º elemento: 2\n",
            "Mostrando o elemento de índice -1: [1, 2, 3]\n",
            "Mostrando o elemento de índice -2: Oi\n",
            "Mostrando o elemento de índice 9: [1, 2, 3]\n",
            "Agora vou retirar o último elemento, que é  [1, 2, 3]\n",
            "Mostrando todos os elementos (um a um):\n",
            "5 <class 'int'>\n",
            "10 <class 'int'>\n",
            "12 <class 'int'>\n",
            "2 <class 'int'>\n",
            "-1 <class 'int'>\n",
            "7 <class 'int'>\n",
            "4 <class 'int'>\n",
            "2.5 <class 'float'>\n",
            "Oi <class 'str'>\n"
          ],
          "name": "stdout"
        }
      ]
    },
    {
      "cell_type": "markdown",
      "metadata": {
        "id": "wA3LbRt6fVpP"
      },
      "source": [
        "**Dicionário**"
      ]
    },
    {
      "cell_type": "code",
      "metadata": {
        "id": "10fLA4O8X01q",
        "outputId": "fb65b8ce-f32f-4f6a-8868-db3ebf9df373",
        "colab": {
          "base_uri": "https://localhost:8080/",
          "height": 86
        }
      },
      "source": [
        "dic = {'cat':'gato', 'dog':'cão', 'boy':'menino', 'girl':'menina', 'father':'pai', 'mother':'mãe'}\n",
        "print('A tradução de cat é', dic['cat'])\n",
        "print('A tradução de boy é', dic['boy'])\n",
        "print('A tradução de dog é', dic['dog'])\n",
        "print('A tradução de mother é', dic['mother'])"
      ],
      "execution_count": null,
      "outputs": [
        {
          "output_type": "stream",
          "text": [
            "A tradução de cat é gato\n",
            "A tradução de boy é menino\n",
            "A tradução de dog é cão\n",
            "A tradução de mother é mãe\n"
          ],
          "name": "stdout"
        }
      ]
    },
    {
      "cell_type": "code",
      "metadata": {
        "id": "Nwsq8h2gc_2s",
        "outputId": "e15cae8b-555f-4213-b362-7d90a8f170fd",
        "colab": {
          "base_uri": "https://localhost:8080/",
          "height": 86
        }
      },
      "source": [
        "strings={'pt' : {'rotulo1' : 'Nome:', 'rotulo2' : 'Endereço:', 'rotulo3' : 'Idade:'} ,\n",
        "         'en' : {'rotulo1' : 'Name:', 'rotulo2' : 'Address:', 'rotulo3' : 'Age:'} ,\n",
        "         'es' : {'rotulo1' : 'Nombre:', 'rotulo2' : 'Dirección:', 'rotulo3' : 'Edad:'} }\n",
        "idioma = input()\n",
        "print(strings[idioma]['rotulo1'])\n",
        "print(strings[idioma]['rotulo2'])\n",
        "print(strings[idioma]['rotulo3'])"
      ],
      "execution_count": null,
      "outputs": [
        {
          "output_type": "stream",
          "text": [
            "es\n",
            "Nombre:\n",
            "Dirección:\n",
            "Edad:\n"
          ],
          "name": "stdout"
        }
      ]
    },
    {
      "cell_type": "code",
      "metadata": {
        "id": "EQB66L5-d_-7",
        "outputId": "1a16e750-9518-420a-b728-e31bbd04b264",
        "colab": {
          "base_uri": "https://localhost:8080/",
          "height": 85
        }
      },
      "source": [
        "import os\n",
        "print(os.getenv('LANG'))\n",
        "idioma = os.getenv('LANG')[:2]\n",
        "strings={'pt' : {'rotulo1' : 'Nome:', 'rotulo2' : 'Endereço:', 'rotulo3' : 'Idade:'} ,\n",
        "         'en' : {'rotulo1' : 'Name:', 'rotulo2' : 'Address:', 'rotulo3' : 'Age:'} ,\n",
        "         'es' : {'rotulo1' : 'Nombre:', 'rotulo2' : 'Dirección:', 'rotulo3' : 'Edad:'} }\n",
        "print(strings[idioma]['rotulo1'])\n",
        "print(strings[idioma]['rotulo2'])\n",
        "print(strings[idioma]['rotulo3'])"
      ],
      "execution_count": null,
      "outputs": [
        {
          "output_type": "stream",
          "text": [
            "en_US.UTF-8\n",
            "Name:\n",
            "Address:\n",
            "Age:\n"
          ],
          "name": "stdout"
        }
      ]
    },
    {
      "cell_type": "markdown",
      "metadata": {
        "id": "FYIPjkChgSFO"
      },
      "source": [
        "**Conjuntos**"
      ]
    },
    {
      "cell_type": "code",
      "metadata": {
        "id": "8RxZ-u49fJhM",
        "outputId": "65847f4e-bac6-4166-ae89-65fabda83946",
        "colab": {
          "base_uri": "https://localhost:8080/",
          "height": 103
        }
      },
      "source": [
        "#Conjuntos (ordem não importa, sem repetição)\n",
        "mamiferos = {'cachorro', 'gato'}\n",
        "aves = {'papagaio'}\n",
        "peixes = {'truta'}\n",
        "peixes.add('carpa')\n",
        "\n",
        "animais = mamiferos.union(peixes, aves)\n",
        "print(animais)\n",
        "print(mamiferos)\n",
        "print(aves)\n",
        "print(peixes)\n",
        "print(animais.intersection(aves))"
      ],
      "execution_count": null,
      "outputs": [
        {
          "output_type": "stream",
          "text": [
            "{'carpa', 'gato', 'papagaio', 'truta', 'cachorro'}\n",
            "{'gato', 'cachorro'}\n",
            "{'papagaio'}\n",
            "{'carpa', 'truta'}\n",
            "{'papagaio'}\n"
          ],
          "name": "stdout"
        }
      ]
    },
    {
      "cell_type": "markdown",
      "metadata": {
        "id": "GT5WJLdFfnJm"
      },
      "source": [
        "**Tuplas**"
      ]
    },
    {
      "cell_type": "code",
      "metadata": {
        "id": "jiRUjBlIjMqG",
        "outputId": "f1381350-727d-4fbd-deb0-1e1accc24b8d",
        "colab": {
          "base_uri": "https://localhost:8080/",
          "height": 68
        }
      },
      "source": [
        "t = (1,2,3,4,5,6,7,8,9)\n",
        "print(t)\n",
        "print(t[4])\n",
        "print('Tamanho da tupla:', len(t))"
      ],
      "execution_count": null,
      "outputs": [
        {
          "output_type": "stream",
          "text": [
            "(1, 2, 3, 4, 5, 6, 7, 8, 9)\n",
            "5\n",
            "Tamanho da tupla: 9\n"
          ],
          "name": "stdout"
        }
      ]
    },
    {
      "cell_type": "markdown",
      "metadata": {
        "id": "9cG-pGT5fuDm"
      },
      "source": [
        "**Bloco de Decisão**"
      ]
    },
    {
      "cell_type": "code",
      "metadata": {
        "id": "wIouaFelDnYt",
        "outputId": "ea520d14-cc58-49ec-bde7-388a17263a07",
        "colab": {
          "base_uri": "https://localhost:8080/",
          "height": 86
        }
      },
      "source": [
        "import math\n",
        "delta = lambda a,b,c: b**2-4*a*c\n",
        "\n",
        "a = float(input(\"Entre com o valor de A:\"))\n",
        "b = float(input(\"Entre com o valor de B:\"))\n",
        "c = float(input(\"Entre com o valor de C:\"))\n",
        "d = delta(a,b,c)\n",
        "\n",
        "if a == 0: print('Não é uma equação de segundo grau.')\n",
        "elif d < 0: print('Não tem raízes reais')\n",
        "elif d == 0:\n",
        "  x = -b/(2*a)\n",
        "  print('Há uma única raiz real, que é', x)\n",
        "else:\n",
        "  x1 = (-b + math.sqrt(d))/(2*a)\n",
        "  x2 = (-b - math.sqrt(d))/(2*a)\n",
        "  print('Há duas raízes reais, que são', x1, 'e', x2)\n",
        "\n"
      ],
      "execution_count": null,
      "outputs": [
        {
          "output_type": "stream",
          "text": [
            "Entre com o valor de A:1\n",
            "Entre com o valor de B:4\n",
            "Entre com o valor de C:4\n",
            "Há uma única raiz real, que é -2.0\n"
          ],
          "name": "stdout"
        }
      ]
    },
    {
      "cell_type": "code",
      "metadata": {
        "id": "mBTtxlJ8crMt",
        "outputId": "d02f93c7-97e6-47bd-ead1-f2ce43cc8f95",
        "colab": {
          "base_uri": "https://localhost:8080/",
          "height": 34
        }
      },
      "source": [
        "t1 = ((2,3), 'Teste')\n",
        "print(t1)"
      ],
      "execution_count": null,
      "outputs": [
        {
          "output_type": "stream",
          "text": [
            "((2, 3), 'Teste')\n"
          ],
          "name": "stdout"
        }
      ]
    }
  ]
}