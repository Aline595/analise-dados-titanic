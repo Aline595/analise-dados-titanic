{
  "nbformat": 4,
  "nbformat_minor": 0,
  "metadata": {
    "colab": {
      "name": "Aula03.ipynb",
      "provenance": []
    },
    "kernelspec": {
      "name": "python3",
      "display_name": "Python 3"
    }
  },
  "cells": [
    {
      "cell_type": "markdown",
      "metadata": {
        "id": "Q9-F9WMu5I_s"
      },
      "source": [
        "# **Biblioteca NumPy:**"
      ]
    },
    {
      "cell_type": "markdown",
      "metadata": {
        "id": "tAm5NmpVDeuV"
      },
      "source": [
        "[Site do NumPy](https://numpy.org/)"
      ]
    },
    {
      "cell_type": "code",
      "metadata": {
        "id": "uz11uMhVc_uN",
        "outputId": "327f4223-89c9-4f8f-a775-9ee803026362",
        "colab": {
          "base_uri": "https://localhost:8080/",
          "height": 121
        }
      },
      "source": [
        "import numpy as np\n",
        "a = np.array([12,34,26,18,10])\n",
        "# cria uma matriz unidimensional\n",
        "print(a)\n",
        "print(a.dtype)\n",
        "\n",
        "a1 = np.array([1, 2, 3], dtype = np.float64)\n",
        "# cria o array como float de 64 bits\n",
        "print(a1)\n",
        "print(a1.dtype)\n",
        "\n",
        "a2 = np.array([1, 2, 3], dtype = np.int32)\n",
        "# cria o array como float de 64 bits\n",
        "print(a2)\n",
        "print(a2.dtype)"
      ],
      "execution_count": null,
      "outputs": [
        {
          "output_type": "stream",
          "text": [
            "[12 34 26 18 10]\n",
            "int64\n",
            "[1. 2. 3.]\n",
            "float64\n",
            "[1 2 3]\n",
            "int32\n"
          ],
          "name": "stdout"
        }
      ]
    },
    {
      "cell_type": "code",
      "metadata": {
        "id": "0ZnGsHj4fNb-",
        "outputId": "23c7ea53-f778-4d24-dc6c-b3b33830529d",
        "colab": {
          "base_uri": "https://localhost:8080/",
          "height": 104
        }
      },
      "source": [
        "#Python puro versus python+numpy \n",
        "mat = [[7,2,23],[12,27,4],[5,34,23]]\n",
        "print(mat, \"\\n\")\n",
        "\n",
        "b = np.array([[7,2,23],[12,27,4],[5,34,23]])\n",
        "# cria um matriz bidimensional\n",
        "print(b)"
      ],
      "execution_count": null,
      "outputs": [
        {
          "output_type": "stream",
          "text": [
            "[[7, 2, 23], [12, 27, 4], [5, 34, 23]] \n",
            "\n",
            "[[ 7  2 23]\n",
            " [12 27  4]\n",
            " [ 5 34 23]]\n"
          ],
          "name": "stdout"
        }
      ]
    },
    {
      "cell_type": "markdown",
      "metadata": {
        "id": "mp7WB9Ek-Qne"
      },
      "source": [
        "**Algumas matrizes especiais, muito úteis:**"
      ]
    },
    {
      "cell_type": "code",
      "metadata": {
        "id": "zXO3CemTfxZk",
        "outputId": "067f1a6a-298e-4d89-83b6-e5da4af6ac32",
        "colab": {
          "base_uri": "https://localhost:8080/",
          "height": 85
        }
      },
      "source": [
        "d = np.zeros([4,3])\n",
        "# cria uma matriz 4x3 com valores zero\n",
        "print(d)"
      ],
      "execution_count": null,
      "outputs": [
        {
          "output_type": "stream",
          "text": [
            "[[0. 0. 0.]\n",
            " [0. 0. 0.]\n",
            " [0. 0. 0.]\n",
            " [0. 0. 0.]]\n"
          ],
          "name": "stdout"
        }
      ]
    },
    {
      "cell_type": "code",
      "metadata": {
        "id": "_TwvLEywf1Rg",
        "outputId": "10da4bad-078d-4d3f-e018-dbb884fe0936",
        "colab": {
          "base_uri": "https://localhost:8080/",
          "height": 102
        }
      },
      "source": [
        "e = np.ones([5,7])\n",
        "# cria uma matriz de 5x7 com valores 1\n",
        "print(e)"
      ],
      "execution_count": null,
      "outputs": [
        {
          "output_type": "stream",
          "text": [
            "[[1. 1. 1. 1. 1. 1. 1.]\n",
            " [1. 1. 1. 1. 1. 1. 1.]\n",
            " [1. 1. 1. 1. 1. 1. 1.]\n",
            " [1. 1. 1. 1. 1. 1. 1.]\n",
            " [1. 1. 1. 1. 1. 1. 1.]]\n"
          ],
          "name": "stdout"
        }
      ]
    },
    {
      "cell_type": "markdown",
      "metadata": {
        "id": "vcIZ512p-a5I"
      },
      "source": [
        "Matriz identidade:"
      ]
    },
    {
      "cell_type": "code",
      "metadata": {
        "id": "Bg_OuePrf7uh",
        "outputId": "91f9c549-4a95-4b3f-fce1-1d93a8f7b061",
        "colab": {
          "base_uri": "https://localhost:8080/",
          "height": 103
        }
      },
      "source": [
        "f = np.eye(5)\n",
        "# cria matriz quadrada com diagonal principal com valores 1 e os outros valores zero\n",
        "print(f)"
      ],
      "execution_count": null,
      "outputs": [
        {
          "output_type": "stream",
          "text": [
            "[[1. 0. 0. 0. 0.]\n",
            " [0. 1. 0. 0. 0.]\n",
            " [0. 0. 1. 0. 0.]\n",
            " [0. 0. 0. 1. 0.]\n",
            " [0. 0. 0. 0. 1.]]\n"
          ],
          "name": "stdout"
        }
      ]
    },
    {
      "cell_type": "markdown",
      "metadata": {
        "id": "PzH909C6-eI8"
      },
      "source": [
        "Matriz preenchida com números aleatórios:"
      ]
    },
    {
      "cell_type": "code",
      "metadata": {
        "id": "fyUSpx1ng7hu",
        "outputId": "9dd8b793-eb85-4fb2-f5ab-696f90985493",
        "colab": {
          "base_uri": "https://localhost:8080/",
          "height": 520
        }
      },
      "source": [
        "g = np.random.random((5))\n",
        "print(g, \"\\n\")\n",
        "\n",
        "h = 10*np.random.random((3,4))\n",
        "print(h, \"\\n\")\n",
        "\n",
        "h = np.floor(h)\n",
        "print(h, \"\\n\")\n",
        "\n",
        "#Vamos gerar um vetor com aleatório de -0,9999 a +0,9999\n",
        "h = 2*np.random.random((3,4)) - 1\n",
        "print(\"Aleatórios de -0,999 a +0,999:\\n\")\n",
        "print(h, \"\\n\")\n",
        "print(\"Média de h:\", h.mean())\n",
        "print(\"Mínimo de h:\", h.min())\n",
        "print(\"Máximo de h:\", h.max())\n",
        "\n",
        "print(\"\\nAleatórios seguindo a curva normal, com média 0 e desvio padrão 1:\\n\")\n",
        "g2 = np.random.randn((10))\n",
        "print(g2, \"\\n\")\n",
        "print(\"Média de g2:\", g2.mean())\n",
        "print(\"Mínimo de g2:\", g2.min())\n",
        "print(\"Máximo de g2:\", g2.max())\n",
        "print(\"Desvio padrão de g2:\", g2.std())"
      ],
      "execution_count": null,
      "outputs": [
        {
          "output_type": "stream",
          "text": [
            "[0.74536761 0.0793922  0.78673452 0.99980301 0.46708778] \n",
            "\n",
            "[[6.80303988 3.12169676 5.82259688 4.72610253]\n",
            " [3.50141341 4.80546637 9.65247452 1.11235511]\n",
            " [0.32329245 7.50153614 4.34783854 4.62137018]] \n",
            "\n",
            "[[6. 3. 5. 4.]\n",
            " [3. 4. 9. 1.]\n",
            " [0. 7. 4. 4.]] \n",
            "\n",
            "Aleatórios de -0,999 a +0,999:\n",
            "\n",
            "[[-0.98823598 -0.0298347  -0.78191763 -0.81355724]\n",
            " [ 0.25736385 -0.9939052  -0.68189297 -0.84314668]\n",
            " [ 0.84858697 -0.49600177 -0.19701548 -0.02011747]] \n",
            "\n",
            "Média de h: -0.39497285869298154\n",
            "Mínimo de h: -0.993905199452084\n",
            "Máximo de h: 0.8485869705745039\n",
            "\n",
            "Aleatórios seguindo a curva norma, com média 0 e desvio padrão 1:\n",
            "\n",
            "[-1.46342285 -1.18721132 -1.07437223  0.30696832  0.1045317   0.80457497\n",
            " -0.1422762  -1.54768835  0.49319577 -0.12648861] \n",
            "\n",
            "Média de g2: -0.38321888098701223\n",
            "Mínimo de g2: -1.5476883460096849\n",
            "Máximo de g2: 0.8045749676362577\n",
            "Desvio padrão de g2: 0.8163397705183738\n"
          ],
          "name": "stdout"
        }
      ]
    },
    {
      "cell_type": "markdown",
      "metadata": {
        "id": "r-LhTWp0i6UX"
      },
      "source": [
        "Com o gerador de inteiros você pode gerar inteiros aleatórios indicando o valor inicial (lembre-\n",
        "se de que isso é inclusivo com NumPy) até o valor final (exclusivo). Você pode definir\n",
        "“endpoint = True” para tornar o valor final inclusivo. Veja o exemplo:"
      ]
    },
    {
      "cell_type": "code",
      "metadata": {
        "id": "6r3DfWt8iKL5",
        "outputId": "325bba1f-e130-4c46-ff1c-8419a3986da7",
        "colab": {
          "base_uri": "https://localhost:8080/",
          "height": 69
        }
      },
      "source": [
        "gnr = np.random.default_rng(0)\n",
        "i = gnr.integers(10, size=(3, 4))\n",
        "print(i)"
      ],
      "execution_count": null,
      "outputs": [
        {
          "output_type": "stream",
          "text": [
            "[[8 6 5 2]\n",
            " [3 0 0 0]\n",
            " [1 8 6 9]]\n"
          ],
          "name": "stdout"
        }
      ]
    },
    {
      "cell_type": "markdown",
      "metadata": {
        "id": "arsUAN3wjXoy"
      },
      "source": [
        "Já a função “unique” permite obtermos a quantidade de números em um array sem\n",
        "repetições. Veja o exemplo:\n"
      ]
    },
    {
      "cell_type": "code",
      "metadata": {
        "id": "gvv0MW-bjS_Z",
        "outputId": "11f56c53-3a42-4a88-ac22-50bd1d08cdb0",
        "colab": {
          "base_uri": "https://localhost:8080/",
          "height": 35
        }
      },
      "source": [
        "j = np.array([11, 12, 13, 14, 15, 16, 17, 12, 13, 11, 18, 19, 20])\n",
        "j = np.unique(j)\n",
        "print(j)"
      ],
      "execution_count": null,
      "outputs": [
        {
          "output_type": "stream",
          "text": [
            "[11 12 13 14 15 16 17 18 19 20]\n"
          ],
          "name": "stdout"
        }
      ]
    },
    {
      "cell_type": "markdown",
      "metadata": {
        "id": "oIvXa_8eCy5K"
      },
      "source": [
        "Funções para estatística: mínimo, máximo, média, desvio padrão"
      ]
    },
    {
      "cell_type": "code",
      "metadata": {
        "id": "mC14IvhFjliz",
        "outputId": "887a2201-87ac-42fa-fa0e-a87b6e9d29c1",
        "colab": {
          "base_uri": "https://localhost:8080/",
          "height": 191
        }
      },
      "source": [
        "k = np.array([[17,22,43],[27,25,14],[15,24,32]])\n",
        "# cria a matriz bidimensional k\n",
        "print(k)\n",
        "# Mostra a matriz k\n",
        "print(k[0][1])\n",
        "# Mostra um elemento específico da matriz k\n",
        "print(\"Dimensões = \", k.shape)\n",
        "# Mostra o tamanho das dimensões da matriz k\n",
        "print(\"Máximo = \", k.max())\n",
        "# Mostra o maior valor da matriz k\n",
        "print(\"Mínimo = \", k.min())\n",
        "# Mostra o menor valor da matriz k\n",
        "print(\"Soma = \", k.sum())\n",
        "# Mostra a soma dos valores da matriz k\n",
        "print(\"Média = \", k.mean())\n",
        "# Mostra o valor da média dos valores da matriz k\n",
        "print(\"Desvio padrão = \", k.std())\n",
        "# Mostra o valor do desvio padrão (standard deviation) dos valores da matiz k"
      ],
      "execution_count": null,
      "outputs": [
        {
          "output_type": "stream",
          "text": [
            "[[17 22 43]\n",
            " [27 25 14]\n",
            " [15 24 32]]\n",
            "22\n",
            "Dimensões =  (3, 3)\n",
            "Máximo =  43\n",
            "Mínimo =  14\n",
            "Soma =  219\n",
            "Média =  24.333333333333332\n",
            "Desvio padrão =  8.615231988880057\n"
          ],
          "name": "stdout"
        }
      ]
    },
    {
      "cell_type": "markdown",
      "metadata": {
        "id": "RaDZDP5iDUDS"
      },
      "source": [
        "Raiz quadrada e exponenciação:"
      ]
    },
    {
      "cell_type": "code",
      "metadata": {
        "id": "vITxmak9kyAa",
        "outputId": "29342ad1-8955-447c-ccbc-2289af1568e1",
        "colab": {
          "base_uri": "https://localhost:8080/",
          "height": 69
        }
      },
      "source": [
        "k1 = np.array([1, 4, 9, 16, 25, 36])\n",
        "print(np.sqrt(k1))\n",
        "print(np.exp(k1))"
      ],
      "execution_count": null,
      "outputs": [
        {
          "output_type": "stream",
          "text": [
            "[1. 2. 3. 4. 5. 6.]\n",
            "[2.71828183e+00 5.45981500e+01 8.10308393e+03 8.88611052e+06\n",
            " 7.20048993e+10 4.31123155e+15]\n"
          ],
          "name": "stdout"
        }
      ]
    },
    {
      "cell_type": "markdown",
      "metadata": {
        "id": "dmz9P2wIDzZy"
      },
      "source": [
        "Como extrair linhas e/ou colunas de arrays:"
      ]
    },
    {
      "cell_type": "code",
      "metadata": {
        "id": "8FTvmrO1D7Um",
        "outputId": "09404936-2dc5-44bb-85ba-694664ca5926",
        "colab": {
          "base_uri": "https://localhost:8080/",
          "height": 173
        }
      },
      "source": [
        "l = np.array([[4, 5], [6, 1], [7, 4]])\n",
        "print(l, \"\\n\")\n",
        "l_linha_0 = l[0, :]\n",
        "print(\"Extraindo a linha 0:\", l_linha_0)\n",
        "l_linha_1 = l[1, :]\n",
        "print(\"Extraindo a linha 1:\", l_linha_1)\n",
        "l_linha_2 = l[2, :]\n",
        "print(\"Extraindo a linha 2:\", l_linha_2)\n",
        "l_coluna_0 = l[:, 0]\n",
        "print(\"Extraindo a coluna 0:\", l_coluna_0)\n",
        "l_coluna_1 = l[:, 1]\n",
        "print(\"Extraindo a coluna 1:\", l_coluna_1)"
      ],
      "execution_count": null,
      "outputs": [
        {
          "output_type": "stream",
          "text": [
            "[[4 5]\n",
            " [6 1]\n",
            " [7 4]] \n",
            "\n",
            "Extraindo a linha 0: [4 5]\n",
            "Extraindo a linha 1: [6 1]\n",
            "Extraindo a linha 2: [7 4]\n",
            "Extraindo a coluna 0: [4 6 7]\n",
            "Extraindo a coluna 1: [5 1 4]\n"
          ],
          "name": "stdout"
        }
      ]
    },
    {
      "cell_type": "markdown",
      "metadata": {
        "id": "N1Xy09vHE5fw"
      },
      "source": [
        "Além desse recurso de extração de linhas e colunas é possível realizar com os arrays do NumPy\n",
        "todos os recursos de fatiamento que foram apresentados para listas em Python."
      ]
    },
    {
      "cell_type": "code",
      "metadata": {
        "id": "g2DEqtj4E_ON",
        "outputId": "845c4b79-c2e1-4a5a-a9a1-fc66d6c08c16",
        "colab": {
          "base_uri": "https://localhost:8080/",
          "height": 87
        }
      },
      "source": [
        "m = np.array([1, 2, 3, 4, 5, 6])\n",
        "print(m[1])\n",
        "# Mostra o elemento da posição 2\n",
        "print(m[0:2])\n",
        "# Mostra o array criado a partir da posição 0, dois elementos\n",
        "print(m[1:])\n",
        "# Mostra o array criado a partir da 2a posição\n",
        "# até todo o restante do array\n",
        "print(m[-3:])\n",
        "# Mostra o array criado a partir da antepenúltima\n",
        "#posição até o final"
      ],
      "execution_count": null,
      "outputs": [
        {
          "output_type": "stream",
          "text": [
            "2\n",
            "[1 2]\n",
            "[2 3 4 5 6]\n",
            "[4 5 6]\n"
          ],
          "name": "stdout"
        }
      ]
    },
    {
      "cell_type": "markdown",
      "metadata": {
        "id": "-IlzAjaMFfd_"
      },
      "source": [
        "Você pode adicioná-las e multiplicá-las usando operadores\n",
        "aritméticos se tiver duas matrizes do mesmo tamanho."
      ]
    },
    {
      "cell_type": "code",
      "metadata": {
        "id": "s0GqARWLlpUx",
        "outputId": "42a0cb2a-1cad-4cca-dc5b-1b0e10ecea75",
        "colab": {
          "base_uri": "https://localhost:8080/",
          "height": 156
        }
      },
      "source": [
        "n = np.array([[1, 2], [3, 4], [6, 7]])\n",
        "o = np.array([[1, 1], [1, 1], [-1, 0]])\n",
        "res1 = n+o\n",
        "print(\"Soma das duas matrizes 'n' e 'o':\\n\", res1)\n",
        "res2 = n*o\n",
        "print(\"Multiplicação (elemento por elemento) das duas matrizes 'n' e 'o':\\n\", res2)"
      ],
      "execution_count": null,
      "outputs": [
        {
          "output_type": "stream",
          "text": [
            "Soma das duas matrizes 'n' e 'o':\n",
            " [[2 3]\n",
            " [4 5]\n",
            " [5 7]]\n",
            "Multiplicação (elemento por elemento) das duas matrizes 'n' e 'o':\n",
            " [[ 1  2]\n",
            " [ 3  4]\n",
            " [-6  0]]\n"
          ],
          "name": "stdout"
        }
      ]
    },
    {
      "cell_type": "markdown",
      "metadata": {
        "id": "x77_FiD6mpN8"
      },
      "source": [
        "*Semelhança de cossenos:*"
      ]
    },
    {
      "cell_type": "code",
      "metadata": {
        "id": "j2vlauetmtHO",
        "outputId": "ef74806a-50c6-49ac-cd8a-0a392acc4b18",
        "colab": {
          "base_uri": "https://localhost:8080/",
          "height": 87
        }
      },
      "source": [
        "import numpy as np\n",
        "#vetores 1 e 2 são bem \"parecidos\" e o 3 é bem diferente dos outros 2\n",
        "vetor1 = np.array([1, 0, 0, 1, 0, 1])\n",
        "vetor2 = np.array([1, 1, 0, 1, 0, 1])\n",
        "vetor3 = np.array([0, 0, 1, 0, 0, 0])\n",
        "\n",
        "semelhanca = lambda v1, v2: np.dot(v1, v2)/(np.linalg.norm(v1)* np.linalg.norm(v2)) \n",
        "# = cosseno do ângulo entre os vetores v1 e v2 \n",
        "\n",
        "print('Semelhança entre os vetores:')\n",
        "print(\"Semelhança entre vetor1 e vetor2:\", semelhanca(vetor1, vetor2))\n",
        "print(\"Semelhança entre vetor1 e vetor3:\", semelhanca(vetor1, vetor3))\n",
        "print(\"Semelhança entre vetor2 e vetor3:\", semelhanca(vetor2, vetor3))"
      ],
      "execution_count": null,
      "outputs": [
        {
          "output_type": "stream",
          "text": [
            "Semelhança entre os vetores:\n",
            "Semelhança entre vetor1 e vetor2: 0.8660254037844387\n",
            "Semelhança entre vetor1 e vetor3: 0.0\n",
            "Semelhança entre vetor2 e vetor3: 0.0\n"
          ],
          "name": "stdout"
        }
      ]
    },
    {
      "cell_type": "markdown",
      "metadata": {
        "id": "3ptYLbK5V7VM"
      },
      "source": [
        "Transpor e rearranjar eixos é uma tarefa comum em processamento de dados e cálculos\n",
        "numéricos."
      ]
    },
    {
      "cell_type": "code",
      "metadata": {
        "id": "qtLomk0tWAUe",
        "outputId": "63205f81-0123-400a-bac1-1f25a4ad0d18",
        "colab": {
          "base_uri": "https://localhost:8080/",
          "height": 277
        }
      },
      "source": [
        "r = np.arange(15).reshape((3, 5))\n",
        "# rearranja um conjunto de 15 elementos de 0 a 14 em 3 linhas e 5 colunas.\n",
        "print(r, \"\\n\")\n",
        "# mostra a matrizes transposta entre linha e coluna\n",
        "s = r.T\n",
        "print(s, \"\\n\")\n",
        "u = np.fliplr(s)\n",
        "print(u)\n"
      ],
      "execution_count": null,
      "outputs": [
        {
          "output_type": "stream",
          "text": [
            "[[ 0  1  2  3  4]\n",
            " [ 5  6  7  8  9]\n",
            " [10 11 12 13 14]] \n",
            "\n",
            "[[ 0  5 10]\n",
            " [ 1  6 11]\n",
            " [ 2  7 12]\n",
            " [ 3  8 13]\n",
            " [ 4  9 14]] \n",
            "\n",
            "[[10  5  0]\n",
            " [11  6  1]\n",
            " [12  7  2]\n",
            " [13  8  3]\n",
            " [14  9  4]]\n"
          ],
          "name": "stdout"
        }
      ]
    },
    {
      "cell_type": "markdown",
      "metadata": {
        "id": "th8fuCa5Wyre"
      },
      "source": [
        "Agora apresentaremos como usar expressões lógicas em array. O NumPy nos fornece a função\n",
        "“where” que substitui um laço condicional if-else."
      ]
    },
    {
      "cell_type": "code",
      "metadata": {
        "id": "pBbGBDfVW7s9",
        "outputId": "ad9ccd0c-4221-4fb1-947d-8755f7db4374",
        "colab": {
          "base_uri": "https://localhost:8080/",
          "height": 243
        }
      },
      "source": [
        "v = np.random.randn(4, 4)\n",
        "print(v, \"\\n\")\n",
        "# criando matriz com valores aleatórios positivos e negativos\n",
        "x = (v > 0)\n",
        "# criando matriz com valores booleanos baseado no array v\n",
        "print(x)\n",
        "z = np.where(x > 0, 1, -1)\n",
        "# criando matriz com valores -1 e 1 baseado nos valores do array x\n",
        "print(z)"
      ],
      "execution_count": null,
      "outputs": [
        {
          "output_type": "stream",
          "text": [
            "[[ 0.55598624 -0.96254932  0.7927942  -0.22680034]\n",
            " [-1.61432137  0.51403825  0.61409056 -1.06498639]\n",
            " [-0.62066133  0.98148645 -0.10366548  1.02293418]\n",
            " [-1.84724286  1.97061507 -1.27209752 -0.03975242]] \n",
            "\n",
            "[[ True False  True False]\n",
            " [False  True  True False]\n",
            " [False  True False  True]\n",
            " [False  True False False]]\n",
            "[[ 1 -1  1 -1]\n",
            " [-1  1  1 -1]\n",
            " [-1  1 -1  1]\n",
            " [-1  1 -1 -1]]\n"
          ],
          "name": "stdout"
        }
      ]
    },
    {
      "cell_type": "markdown",
      "metadata": {
        "id": "_9wqoy8NIcqU"
      },
      "source": [
        "# **Pandas:**"
      ]
    },
    {
      "cell_type": "code",
      "metadata": {
        "id": "r_8XVjLpJZqc",
        "outputId": "aac0f894-eeb8-4b43-fad6-14f1c3e5e543",
        "colab": {
          "resources": {
            "http://localhost:8080/nbextensions/google.colab/files.js": {
              "data": "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",
              "ok": true,
              "headers": [
                [
                  "content-type",
                  "application/javascript"
                ]
              ],
              "status": 200,
              "status_text": ""
            }
          },
          "base_uri": "https://localhost:8080/",
          "height": 73
        }
      },
      "source": [
        "from google.colab import files\n",
        "uploaded = files.upload()\n"
      ],
      "execution_count": null,
      "outputs": [
        {
          "output_type": "display_data",
          "data": {
            "text/html": [
              "\n",
              "     <input type=\"file\" id=\"files-01d7a2ae-b01b-4ba5-86c8-a4444e2fbb1b\" name=\"files[]\" multiple disabled\n",
              "        style=\"border:none\" />\n",
              "     <output id=\"result-01d7a2ae-b01b-4ba5-86c8-a4444e2fbb1b\">\n",
              "      Upload widget is only available when the cell has been executed in the\n",
              "      current browser session. Please rerun this cell to enable.\n",
              "      </output>\n",
              "      <script src=\"/nbextensions/google.colab/files.js\"></script> "
            ],
            "text/plain": [
              "<IPython.core.display.HTML object>"
            ]
          },
          "metadata": {
            "tags": []
          }
        },
        {
          "output_type": "stream",
          "text": [
            "Saving Planilha_teste.xlsx to Planilha_teste.xlsx\n"
          ],
          "name": "stdout"
        }
      ]
    },
    {
      "cell_type": "code",
      "metadata": {
        "id": "Cvn8JlPadX6H",
        "outputId": "34701f5a-6c87-44b1-b958-d7c0cb42a0b2",
        "colab": {
          "base_uri": "https://localhost:8080/",
          "height": 35
        }
      },
      "source": [
        "!ls"
      ],
      "execution_count": null,
      "outputs": [
        {
          "output_type": "stream",
          "text": [
            "Planilha_teste.xlsx  sample_data\n"
          ],
          "name": "stdout"
        }
      ]
    },
    {
      "cell_type": "code",
      "metadata": {
        "id": "vzT9lmvDJopM",
        "outputId": "f21c19b7-27e6-4641-c186-b016678b4a28",
        "colab": {
          "base_uri": "https://localhost:8080/",
          "height": 355
        }
      },
      "source": [
        "import pandas as pd\n",
        "dados1 = pd.read_excel('Planilha_teste.xlsx')\n",
        "dados1"
      ],
      "execution_count": null,
      "outputs": [
        {
          "output_type": "execute_result",
          "data": {
            "text/html": [
              "<div>\n",
              "<style scoped>\n",
              "    .dataframe tbody tr th:only-of-type {\n",
              "        vertical-align: middle;\n",
              "    }\n",
              "\n",
              "    .dataframe tbody tr th {\n",
              "        vertical-align: top;\n",
              "    }\n",
              "\n",
              "    .dataframe thead th {\n",
              "        text-align: right;\n",
              "    }\n",
              "</style>\n",
              "<table border=\"1\" class=\"dataframe\">\n",
              "  <thead>\n",
              "    <tr style=\"text-align: right;\">\n",
              "      <th></th>\n",
              "      <th>números</th>\n",
              "      <th>letras</th>\n",
              "    </tr>\n",
              "  </thead>\n",
              "  <tbody>\n",
              "    <tr>\n",
              "      <th>0</th>\n",
              "      <td>1</td>\n",
              "      <td>a</td>\n",
              "    </tr>\n",
              "    <tr>\n",
              "      <th>1</th>\n",
              "      <td>2</td>\n",
              "      <td>b</td>\n",
              "    </tr>\n",
              "    <tr>\n",
              "      <th>2</th>\n",
              "      <td>3</td>\n",
              "      <td>c</td>\n",
              "    </tr>\n",
              "    <tr>\n",
              "      <th>3</th>\n",
              "      <td>4</td>\n",
              "      <td>d</td>\n",
              "    </tr>\n",
              "    <tr>\n",
              "      <th>4</th>\n",
              "      <td>5</td>\n",
              "      <td>e</td>\n",
              "    </tr>\n",
              "    <tr>\n",
              "      <th>5</th>\n",
              "      <td>6</td>\n",
              "      <td>f</td>\n",
              "    </tr>\n",
              "    <tr>\n",
              "      <th>6</th>\n",
              "      <td>7</td>\n",
              "      <td>g</td>\n",
              "    </tr>\n",
              "    <tr>\n",
              "      <th>7</th>\n",
              "      <td>8</td>\n",
              "      <td>h</td>\n",
              "    </tr>\n",
              "    <tr>\n",
              "      <th>8</th>\n",
              "      <td>9</td>\n",
              "      <td>i</td>\n",
              "    </tr>\n",
              "    <tr>\n",
              "      <th>9</th>\n",
              "      <td>10</td>\n",
              "      <td>j</td>\n",
              "    </tr>\n",
              "  </tbody>\n",
              "</table>\n",
              "</div>"
            ],
            "text/plain": [
              "   números letras\n",
              "0        1      a\n",
              "1        2      b\n",
              "2        3      c\n",
              "3        4      d\n",
              "4        5      e\n",
              "5        6      f\n",
              "6        7      g\n",
              "7        8      h\n",
              "8        9      i\n",
              "9       10      j"
            ]
          },
          "metadata": {
            "tags": []
          },
          "execution_count": 3
        }
      ]
    },
    {
      "cell_type": "code",
      "metadata": {
        "id": "tsRx5xBFD2cD",
        "outputId": "9ce2dfc6-b600-4721-8b1f-aece17fc86c3",
        "colab": {
          "base_uri": "https://localhost:8080/",
          "height": 35
        }
      },
      "source": [
        "!ls\n",
        "files.download(\"Planilha_teste.xlsx\")"
      ],
      "execution_count": null,
      "outputs": [
        {
          "output_type": "stream",
          "text": [
            "Planilha_teste.xlsx  sample_data\n"
          ],
          "name": "stdout"
        },
        {
          "output_type": "display_data",
          "data": {
            "application/javascript": [
              "\n",
              "    async function download(id, filename, size) {\n",
              "      if (!google.colab.kernel.accessAllowed) {\n",
              "        return;\n",
              "      }\n",
              "      const div = document.createElement('div');\n",
              "      const label = document.createElement('label');\n",
              "      label.textContent = `Downloading \"${filename}\": `;\n",
              "      div.appendChild(label);\n",
              "      const progress = document.createElement('progress');\n",
              "      progress.max = size;\n",
              "      div.appendChild(progress);\n",
              "      document.body.appendChild(div);\n",
              "\n",
              "      const buffers = [];\n",
              "      let downloaded = 0;\n",
              "\n",
              "      const channel = await google.colab.kernel.comms.open(id);\n",
              "      // Send a message to notify the kernel that we're ready.\n",
              "      channel.send({})\n",
              "\n",
              "      for await (const message of channel.messages) {\n",
              "        // Send a message to notify the kernel that we're ready.\n",
              "        channel.send({})\n",
              "        if (message.buffers) {\n",
              "          for (const buffer of message.buffers) {\n",
              "            buffers.push(buffer);\n",
              "            downloaded += buffer.byteLength;\n",
              "            progress.value = downloaded;\n",
              "          }\n",
              "        }\n",
              "      }\n",
              "      const blob = new Blob(buffers, {type: 'application/binary'});\n",
              "      const a = document.createElement('a');\n",
              "      a.href = window.URL.createObjectURL(blob);\n",
              "      a.download = filename;\n",
              "      div.appendChild(a);\n",
              "      a.click();\n",
              "      div.remove();\n",
              "    }\n",
              "  "
            ],
            "text/plain": [
              "<IPython.core.display.Javascript object>"
            ]
          },
          "metadata": {
            "tags": []
          }
        },
        {
          "output_type": "display_data",
          "data": {
            "application/javascript": [
              "download(\"download_1d3cca97-abe8-4854-a193-b9c42f614f17\", \"Planilha_teste.xlsx\", 5013)"
            ],
            "text/plain": [
              "<IPython.core.display.Javascript object>"
            ]
          },
          "metadata": {
            "tags": []
          }
        }
      ]
    },
    {
      "cell_type": "code",
      "metadata": {
        "id": "MERaDXc3KBEg",
        "outputId": "65e51497-25cc-4c97-d49e-f34a644bc1aa",
        "colab": {
          "base_uri": "https://localhost:8080/",
          "height": 347
        }
      },
      "source": [
        "print(dados1.shape)\n",
        "print(dados1.head(),\"\\n\")\n",
        "print(dados1.head(10))"
      ],
      "execution_count": null,
      "outputs": [
        {
          "output_type": "stream",
          "text": [
            "(10, 2)\n",
            "   números letras\n",
            "0        1      a\n",
            "1        2      b\n",
            "2        3      c\n",
            "3        4      d\n",
            "4        5      e \n",
            "\n",
            "   números letras\n",
            "0        1      a\n",
            "1        2      b\n",
            "2        3      c\n",
            "3        4      d\n",
            "4        5      e\n",
            "5        6      f\n",
            "6        7      g\n",
            "7        8      h\n",
            "8        9      i\n",
            "9       10      j\n"
          ],
          "name": "stdout"
        }
      ]
    },
    {
      "cell_type": "code",
      "metadata": {
        "id": "DGFdUfvWh41S",
        "outputId": "da285f85-58da-441f-dfcb-d4098b7f6c04",
        "colab": {
          "base_uri": "https://localhost:8080/",
          "height": 121
        }
      },
      "source": [
        "print(dados1.tail())"
      ],
      "execution_count": null,
      "outputs": [
        {
          "output_type": "stream",
          "text": [
            "   números letras\n",
            "5        6      f\n",
            "6        7      g\n",
            "7        8      h\n",
            "8        9      i\n",
            "9       10      j\n"
          ],
          "name": "stdout"
        }
      ]
    },
    {
      "cell_type": "markdown",
      "metadata": {
        "id": "SfoKc05to16U"
      },
      "source": [
        "*Importando uma base sobre o Titanic (esta base está disponível no site Kaggle):*\n",
        "\n",
        "https://www.kaggle.com/c/titanic/data?select=train.csv\n",
        "\n",
        "\n"
      ]
    },
    {
      "cell_type": "code",
      "metadata": {
        "id": "k3Qiy1Rwo_Dd",
        "outputId": "e8da37ad-b1ac-48f0-f153-9e6eb9f8001a",
        "colab": {
          "resources": {
            "http://localhost:8080/nbextensions/google.colab/files.js": {
              "data": "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",
              "ok": true,
              "headers": [
                [
                  "content-type",
                  "application/javascript"
                ]
              ],
              "status": 200,
              "status_text": ""
            }
          },
          "base_uri": "https://localhost:8080/",
          "height": 73
        }
      },
      "source": [
        "uploaded = files.upload()"
      ],
      "execution_count": null,
      "outputs": [
        {
          "output_type": "display_data",
          "data": {
            "text/html": [
              "\n",
              "     <input type=\"file\" id=\"files-7437ff24-35f2-4129-81a2-cc4a1a0885c3\" name=\"files[]\" multiple disabled\n",
              "        style=\"border:none\" />\n",
              "     <output id=\"result-7437ff24-35f2-4129-81a2-cc4a1a0885c3\">\n",
              "      Upload widget is only available when the cell has been executed in the\n",
              "      current browser session. Please rerun this cell to enable.\n",
              "      </output>\n",
              "      <script src=\"/nbextensions/google.colab/files.js\"></script> "
            ],
            "text/plain": [
              "<IPython.core.display.HTML object>"
            ]
          },
          "metadata": {
            "tags": []
          }
        },
        {
          "output_type": "stream",
          "text": [
            "Saving train.csv to train.csv\n"
          ],
          "name": "stdout"
        }
      ]
    },
    {
      "cell_type": "code",
      "metadata": {
        "id": "qTFCTncbh6B1",
        "outputId": "197250c2-0ca2-465a-8c4f-8e75cc0a469f",
        "colab": {
          "base_uri": "https://localhost:8080/",
          "height": 35
        }
      },
      "source": [
        "!ls"
      ],
      "execution_count": null,
      "outputs": [
        {
          "output_type": "stream",
          "text": [
            "Planilha_teste.xlsx  sample_data  train.csv\n"
          ],
          "name": "stdout"
        }
      ]
    },
    {
      "cell_type": "code",
      "metadata": {
        "id": "pnPBoNCspS0S",
        "outputId": "f0f51f2f-2487-4bf2-a7b8-bf35a10ef980",
        "colab": {
          "base_uri": "https://localhost:8080/",
          "height": 451
        }
      },
      "source": [
        "dados2 = pd.read_csv('train.csv')\n",
        "print(dados2.shape)\n",
        "print(dados2.head(10))\n",
        "print(dados2.describe())"
      ],
      "execution_count": null,
      "outputs": [
        {
          "output_type": "stream",
          "text": [
            "(891, 12)\n",
            "   PassengerId  Survived  Pclass  ...     Fare Cabin  Embarked\n",
            "0            1         0       3  ...   7.2500   NaN         S\n",
            "1            2         1       1  ...  71.2833   C85         C\n",
            "2            3         1       3  ...   7.9250   NaN         S\n",
            "3            4         1       1  ...  53.1000  C123         S\n",
            "4            5         0       3  ...   8.0500   NaN         S\n",
            "5            6         0       3  ...   8.4583   NaN         Q\n",
            "6            7         0       1  ...  51.8625   E46         S\n",
            "7            8         0       3  ...  21.0750   NaN         S\n",
            "8            9         1       3  ...  11.1333   NaN         S\n",
            "9           10         1       2  ...  30.0708   NaN         C\n",
            "\n",
            "[10 rows x 12 columns]\n",
            "       PassengerId    Survived      Pclass  ...       SibSp       Parch        Fare\n",
            "count   891.000000  891.000000  891.000000  ...  891.000000  891.000000  891.000000\n",
            "mean    446.000000    0.383838    2.308642  ...    0.523008    0.381594   32.204208\n",
            "std     257.353842    0.486592    0.836071  ...    1.102743    0.806057   49.693429\n",
            "min       1.000000    0.000000    1.000000  ...    0.000000    0.000000    0.000000\n",
            "25%     223.500000    0.000000    2.000000  ...    0.000000    0.000000    7.910400\n",
            "50%     446.000000    0.000000    3.000000  ...    0.000000    0.000000   14.454200\n",
            "75%     668.500000    1.000000    3.000000  ...    1.000000    0.000000   31.000000\n",
            "max     891.000000    1.000000    3.000000  ...    8.000000    6.000000  512.329200\n",
            "\n",
            "[8 rows x 7 columns]\n"
          ],
          "name": "stdout"
        }
      ]
    },
    {
      "cell_type": "code",
      "metadata": {
        "id": "KFOJon_iLMDP",
        "outputId": "ce6ed709-7b3d-4dfb-cf36-8d83a477e156",
        "colab": {
          "resources": {
            "http://localhost:8080/nbextensions/google.colab/files.js": {
              "data": "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",
              "ok": true,
              "headers": [
                [
                  "content-type",
                  "application/javascript"
                ]
              ],
              "status": 200,
              "status_text": ""
            }
          },
          "base_uri": "https://localhost:8080/",
          "height": 507
        }
      },
      "source": [
        "uploaded = files.upload()\n",
        "dados3 = pd.read_csv('census.csv')\n",
        "print(dados3.shape)\n",
        "print(dados3.head(10))\n",
        "print(dados3.describe())"
      ],
      "execution_count": null,
      "outputs": [
        {
          "output_type": "display_data",
          "data": {
            "text/html": [
              "\n",
              "     <input type=\"file\" id=\"files-eed040ce-242b-4f84-806f-fb886bd7a630\" name=\"files[]\" multiple disabled\n",
              "        style=\"border:none\" />\n",
              "     <output id=\"result-eed040ce-242b-4f84-806f-fb886bd7a630\">\n",
              "      Upload widget is only available when the cell has been executed in the\n",
              "      current browser session. Please rerun this cell to enable.\n",
              "      </output>\n",
              "      <script src=\"/nbextensions/google.colab/files.js\"></script> "
            ],
            "text/plain": [
              "<IPython.core.display.HTML object>"
            ]
          },
          "metadata": {
            "tags": []
          }
        },
        {
          "output_type": "stream",
          "text": [
            "Saving census.csv to census.csv\n",
            "(30162, 16)\n",
            "   Unnamed: 0  age          workclass  ...  hour.per.week  native.country  income\n",
            "0           1   39          State-gov  ...             40   United-States   <=50K\n",
            "1           2   50   Self-emp-not-inc  ...             13   United-States   <=50K\n",
            "2           3   38            Private  ...             40   United-States   <=50K\n",
            "3           4   53            Private  ...             40   United-States   <=50K\n",
            "4           5   28            Private  ...             40            Cuba   <=50K\n",
            "5           6   37            Private  ...             40   United-States   <=50K\n",
            "6           7   49            Private  ...             16         Jamaica   <=50K\n",
            "7           8   52   Self-emp-not-inc  ...             45   United-States    >50K\n",
            "8           9   31            Private  ...             50   United-States    >50K\n",
            "9          10   42            Private  ...             40   United-States    >50K\n",
            "\n",
            "[10 rows x 16 columns]\n",
            "         Unnamed: 0           age  ...  capital.loos  hour.per.week\n",
            "count  30162.000000  30162.000000  ...  30162.000000   30162.000000\n",
            "mean   16288.103242     38.437902  ...     88.372489      40.931238\n",
            "std     9383.401676     13.134665  ...    404.298370      11.979984\n",
            "min        1.000000     17.000000  ...      0.000000       1.000000\n",
            "25%     8179.250000     28.000000  ...      0.000000      40.000000\n",
            "50%    16286.500000     37.000000  ...      0.000000      40.000000\n",
            "75%    24402.750000     47.000000  ...      0.000000      45.000000\n",
            "max    32561.000000     90.000000  ...   4356.000000      99.000000\n",
            "\n",
            "[8 rows x 7 columns]\n"
          ],
          "name": "stdout"
        }
      ]
    },
    {
      "cell_type": "code",
      "metadata": {
        "id": "99N1X85nlsmC",
        "outputId": "fb159ebc-0f81-4270-94fb-7551fc707014",
        "colab": {
          "base_uri": "https://localhost:8080/",
          "height": 173
        }
      },
      "source": [
        "teste = pd.Series(range(0,101))\n",
        "teste.describe()"
      ],
      "execution_count": null,
      "outputs": [
        {
          "output_type": "execute_result",
          "data": {
            "text/plain": [
              "count    101.000000\n",
              "mean      50.000000\n",
              "std       29.300171\n",
              "min        0.000000\n",
              "25%       25.000000\n",
              "50%       50.000000\n",
              "75%       75.000000\n",
              "max      100.000000\n",
              "dtype: float64"
            ]
          },
          "metadata": {
            "tags": []
          },
          "execution_count": 23
        }
      ]
    },
    {
      "cell_type": "code",
      "metadata": {
        "id": "veLMBKv7K3G9",
        "outputId": "7f902d3f-5d6c-4d7b-9f20-0cc12828c8ee",
        "colab": {
          "base_uri": "https://localhost:8080/",
          "height": 277
        }
      },
      "source": [
        "alunos = {'Nome':['Marcelo','Lucas','Cynthia','Helena'],\n",
        "'Media':[4,7,5.5,9],\n",
        "'Status':['Reprovado','Aprovado','Reprovado','Aprovado']}\n",
        "\n",
        "df1 = pd.DataFrame(alunos)\n",
        "print(df1.shape)\n",
        "print(df1.head())\n",
        "print(df1.describe())"
      ],
      "execution_count": null,
      "outputs": [
        {
          "output_type": "stream",
          "text": [
            "(4, 3)\n",
            "      Nome  Media     Status\n",
            "0  Marcelo    4.0  Reprovado\n",
            "1    Lucas    7.0   Aprovado\n",
            "2  Cynthia    5.5  Reprovado\n",
            "3   Helena    9.0   Aprovado\n",
            "          Media\n",
            "count  4.000000\n",
            "mean   6.375000\n",
            "std    2.136001\n",
            "min    4.000000\n",
            "25%    5.125000\n",
            "50%    6.250000\n",
            "75%    7.500000\n",
            "max    9.000000\n"
          ],
          "name": "stdout"
        }
      ]
    },
    {
      "cell_type": "markdown",
      "metadata": {
        "id": "xZxDOkkmS01-"
      },
      "source": [
        "Filtrando colunas específicas do *dataframe*:"
      ]
    },
    {
      "cell_type": "code",
      "metadata": {
        "id": "cSzpzIiaSYlP",
        "outputId": "8b2afe23-e194-445d-82ea-315832abf8f7",
        "colab": {
          "base_uri": "https://localhost:8080/",
          "height": 121
        }
      },
      "source": [
        "print(df1[['Nome']])\n",
        "print(type(df1[['Nome']]))"
      ],
      "execution_count": null,
      "outputs": [
        {
          "output_type": "stream",
          "text": [
            "      Nome\n",
            "0  Marcelo\n",
            "1    Lucas\n",
            "2  Cynthia\n",
            "3   Helena\n",
            "<class 'pandas.core.frame.DataFrame'>\n"
          ],
          "name": "stdout"
        }
      ]
    },
    {
      "cell_type": "markdown",
      "metadata": {
        "id": "UTkA7UmineCu"
      },
      "source": [
        "Notem a diferença (vamos falar de *Series* daqui a pouco...):"
      ]
    },
    {
      "cell_type": "code",
      "metadata": {
        "id": "nISW-jsqncPg",
        "outputId": "b9cc54f3-6622-4a27-fe0c-1655313992c1",
        "colab": {
          "base_uri": "https://localhost:8080/",
          "height": 121
        }
      },
      "source": [
        "print(df1['Nome'])\n",
        "print(type(df1['Nome']))"
      ],
      "execution_count": null,
      "outputs": [
        {
          "output_type": "stream",
          "text": [
            "0    Marcelo\n",
            "1      Lucas\n",
            "2    Cynthia\n",
            "3     Helena\n",
            "Name: Nome, dtype: object\n",
            "<class 'pandas.core.series.Series'>\n"
          ],
          "name": "stdout"
        }
      ]
    },
    {
      "cell_type": "markdown",
      "metadata": {
        "id": "FSj59N65TCJd"
      },
      "source": [
        "Filtrando linhas com o *loc*:"
      ]
    },
    {
      "cell_type": "code",
      "metadata": {
        "id": "n_rQe8ffTJjQ",
        "outputId": "ece89df8-b757-4820-d762-658cd1d56cd0",
        "colab": {
          "base_uri": "https://localhost:8080/",
          "height": 110
        }
      },
      "source": [
        "df1.loc[[1,3]] #linhas 1 e 3"
      ],
      "execution_count": null,
      "outputs": [
        {
          "output_type": "execute_result",
          "data": {
            "text/html": [
              "<div>\n",
              "<style scoped>\n",
              "    .dataframe tbody tr th:only-of-type {\n",
              "        vertical-align: middle;\n",
              "    }\n",
              "\n",
              "    .dataframe tbody tr th {\n",
              "        vertical-align: top;\n",
              "    }\n",
              "\n",
              "    .dataframe thead th {\n",
              "        text-align: right;\n",
              "    }\n",
              "</style>\n",
              "<table border=\"1\" class=\"dataframe\">\n",
              "  <thead>\n",
              "    <tr style=\"text-align: right;\">\n",
              "      <th></th>\n",
              "      <th>Nome</th>\n",
              "      <th>Media</th>\n",
              "      <th>Status</th>\n",
              "    </tr>\n",
              "  </thead>\n",
              "  <tbody>\n",
              "    <tr>\n",
              "      <th>1</th>\n",
              "      <td>Lucas</td>\n",
              "      <td>7.0</td>\n",
              "      <td>Aprovado</td>\n",
              "    </tr>\n",
              "    <tr>\n",
              "      <th>3</th>\n",
              "      <td>Helena</td>\n",
              "      <td>9.0</td>\n",
              "      <td>Aprovado</td>\n",
              "    </tr>\n",
              "  </tbody>\n",
              "</table>\n",
              "</div>"
            ],
            "text/plain": [
              "     Nome  Media    Status\n",
              "1   Lucas    7.0  Aprovado\n",
              "3  Helena    9.0  Aprovado"
            ]
          },
          "metadata": {
            "tags": []
          },
          "execution_count": 25
        }
      ]
    },
    {
      "cell_type": "code",
      "metadata": {
        "id": "KZWidieZTWEY",
        "outputId": "a9ae8371-767b-456d-f0b1-70c7bdbc8324",
        "colab": {
          "base_uri": "https://localhost:8080/",
          "height": 141
        }
      },
      "source": [
        "df1.loc[1:3] #linhas 1 a 3"
      ],
      "execution_count": null,
      "outputs": [
        {
          "output_type": "execute_result",
          "data": {
            "text/html": [
              "<div>\n",
              "<style scoped>\n",
              "    .dataframe tbody tr th:only-of-type {\n",
              "        vertical-align: middle;\n",
              "    }\n",
              "\n",
              "    .dataframe tbody tr th {\n",
              "        vertical-align: top;\n",
              "    }\n",
              "\n",
              "    .dataframe thead th {\n",
              "        text-align: right;\n",
              "    }\n",
              "</style>\n",
              "<table border=\"1\" class=\"dataframe\">\n",
              "  <thead>\n",
              "    <tr style=\"text-align: right;\">\n",
              "      <th></th>\n",
              "      <th>Nome</th>\n",
              "      <th>Media</th>\n",
              "      <th>Status</th>\n",
              "    </tr>\n",
              "  </thead>\n",
              "  <tbody>\n",
              "    <tr>\n",
              "      <th>1</th>\n",
              "      <td>Lucas</td>\n",
              "      <td>7.0</td>\n",
              "      <td>Aprovado</td>\n",
              "    </tr>\n",
              "    <tr>\n",
              "      <th>2</th>\n",
              "      <td>Cynthia</td>\n",
              "      <td>5.5</td>\n",
              "      <td>Reprovado</td>\n",
              "    </tr>\n",
              "    <tr>\n",
              "      <th>3</th>\n",
              "      <td>Helena</td>\n",
              "      <td>9.0</td>\n",
              "      <td>Aprovado</td>\n",
              "    </tr>\n",
              "  </tbody>\n",
              "</table>\n",
              "</div>"
            ],
            "text/plain": [
              "      Nome  Media     Status\n",
              "1    Lucas    7.0   Aprovado\n",
              "2  Cynthia    5.5  Reprovado\n",
              "3   Helena    9.0   Aprovado"
            ]
          },
          "metadata": {
            "tags": []
          },
          "execution_count": 26
        }
      ]
    },
    {
      "cell_type": "markdown",
      "metadata": {
        "id": "8-qzpI1xThbW"
      },
      "source": [
        "Estabelecer condições:"
      ]
    },
    {
      "cell_type": "code",
      "metadata": {
        "id": "0HDra1f8Tfjc",
        "outputId": "08c45711-d81b-4d49-b582-f19d2d90e4fb",
        "colab": {
          "base_uri": "https://localhost:8080/",
          "height": 110
        }
      },
      "source": [
        "df1.loc[df1['Status'] == 'Aprovado']"
      ],
      "execution_count": null,
      "outputs": [
        {
          "output_type": "execute_result",
          "data": {
            "text/html": [
              "<div>\n",
              "<style scoped>\n",
              "    .dataframe tbody tr th:only-of-type {\n",
              "        vertical-align: middle;\n",
              "    }\n",
              "\n",
              "    .dataframe tbody tr th {\n",
              "        vertical-align: top;\n",
              "    }\n",
              "\n",
              "    .dataframe thead th {\n",
              "        text-align: right;\n",
              "    }\n",
              "</style>\n",
              "<table border=\"1\" class=\"dataframe\">\n",
              "  <thead>\n",
              "    <tr style=\"text-align: right;\">\n",
              "      <th></th>\n",
              "      <th>Nome</th>\n",
              "      <th>Media</th>\n",
              "      <th>Status</th>\n",
              "    </tr>\n",
              "  </thead>\n",
              "  <tbody>\n",
              "    <tr>\n",
              "      <th>1</th>\n",
              "      <td>Lucas</td>\n",
              "      <td>7.0</td>\n",
              "      <td>Aprovado</td>\n",
              "    </tr>\n",
              "    <tr>\n",
              "      <th>3</th>\n",
              "      <td>Helena</td>\n",
              "      <td>9.0</td>\n",
              "      <td>Aprovado</td>\n",
              "    </tr>\n",
              "  </tbody>\n",
              "</table>\n",
              "</div>"
            ],
            "text/plain": [
              "     Nome  Media    Status\n",
              "1   Lucas    7.0  Aprovado\n",
              "3  Helena    9.0  Aprovado"
            ]
          },
          "metadata": {
            "tags": []
          },
          "execution_count": 21
        }
      ]
    },
    {
      "cell_type": "code",
      "metadata": {
        "id": "6f3VuKLITvrD",
        "outputId": "6dd640f3-f121-4095-8d24-35e5e1dc1129",
        "colab": {
          "base_uri": "https://localhost:8080/",
          "height": 110
        }
      },
      "source": [
        "df1.loc[df1['Media'] < 7.0]"
      ],
      "execution_count": null,
      "outputs": [
        {
          "output_type": "execute_result",
          "data": {
            "text/html": [
              "<div>\n",
              "<style scoped>\n",
              "    .dataframe tbody tr th:only-of-type {\n",
              "        vertical-align: middle;\n",
              "    }\n",
              "\n",
              "    .dataframe tbody tr th {\n",
              "        vertical-align: top;\n",
              "    }\n",
              "\n",
              "    .dataframe thead th {\n",
              "        text-align: right;\n",
              "    }\n",
              "</style>\n",
              "<table border=\"1\" class=\"dataframe\">\n",
              "  <thead>\n",
              "    <tr style=\"text-align: right;\">\n",
              "      <th></th>\n",
              "      <th>Nome</th>\n",
              "      <th>Media</th>\n",
              "      <th>Status</th>\n",
              "    </tr>\n",
              "  </thead>\n",
              "  <tbody>\n",
              "    <tr>\n",
              "      <th>0</th>\n",
              "      <td>Marcelo</td>\n",
              "      <td>4.0</td>\n",
              "      <td>Reprovado</td>\n",
              "    </tr>\n",
              "    <tr>\n",
              "      <th>2</th>\n",
              "      <td>Cynthia</td>\n",
              "      <td>5.5</td>\n",
              "      <td>Reprovado</td>\n",
              "    </tr>\n",
              "  </tbody>\n",
              "</table>\n",
              "</div>"
            ],
            "text/plain": [
              "      Nome  Media     Status\n",
              "0  Marcelo    4.0  Reprovado\n",
              "2  Cynthia    5.5  Reprovado"
            ]
          },
          "metadata": {
            "tags": []
          },
          "execution_count": 27
        }
      ]
    },
    {
      "cell_type": "markdown",
      "metadata": {
        "id": "TS-YJfQUT_5r"
      },
      "source": [
        "Selecionando colunas:"
      ]
    },
    {
      "cell_type": "code",
      "metadata": {
        "id": "Ia4P_o6sUDxb",
        "outputId": "a9045ecb-6bdd-4466-d902-f00e8bdc198f",
        "colab": {
          "base_uri": "https://localhost:8080/",
          "height": 68
        }
      },
      "source": [
        "exame = df1[['Nome', 'Media']].loc[df1['Media'] < 7.0]\n",
        "print(exame)"
      ],
      "execution_count": null,
      "outputs": [
        {
          "output_type": "stream",
          "text": [
            "      Nome  Media\n",
            "0  Marcelo    4.0\n",
            "2  Cynthia    5.5\n"
          ],
          "name": "stdout"
        }
      ]
    },
    {
      "cell_type": "markdown",
      "metadata": {
        "id": "kpTYP1s2vToG"
      },
      "source": [
        "**Estatísticas sobre o Titanic:**"
      ]
    },
    {
      "cell_type": "code",
      "metadata": {
        "id": "ESxw2sz3vSrK",
        "outputId": "5c875be3-82b3-4da7-b906-b6af9a8fa8b7",
        "colab": {
          "base_uri": "https://localhost:8080/",
          "height": 364
        }
      },
      "source": [
        "homens = dados2[['Survived', 'Sex']].loc[dados2['Sex'] == 'male']\n",
        "print('Homens:',homens.shape)\n",
        "print(homens.describe())\n",
        "mulheres = dados2[['Survived', 'Sex']].loc[dados2['Sex'] == 'female']\n",
        "print('Mulheres:',mulheres.shape)\n",
        "print(mulheres.describe())"
      ],
      "execution_count": null,
      "outputs": [
        {
          "output_type": "stream",
          "text": [
            "Homens: (577, 2)\n",
            "         Survived\n",
            "count  577.000000\n",
            "mean     0.188908\n",
            "std      0.391775\n",
            "min      0.000000\n",
            "25%      0.000000\n",
            "50%      0.000000\n",
            "75%      0.000000\n",
            "max      1.000000\n",
            "Mulheres: (314, 2)\n",
            "         Survived\n",
            "count  314.000000\n",
            "mean     0.742038\n",
            "std      0.438211\n",
            "min      0.000000\n",
            "25%      0.000000\n",
            "50%      1.000000\n",
            "75%      1.000000\n",
            "max      1.000000\n"
          ],
          "name": "stdout"
        }
      ]
    },
    {
      "cell_type": "code",
      "metadata": {
        "id": "e8qIa26vx3A_",
        "outputId": "bbb7ebe0-a92e-4b8a-97a0-55d606430016",
        "colab": {
          "base_uri": "https://localhost:8080/",
          "height": 364
        }
      },
      "source": [
        "criancas = dados2[['Survived', 'Age']].loc[dados2['Age'] < 16.0]\n",
        "print('Crianças (até 15 anos):',criancas.shape)\n",
        "print(criancas.describe())\n",
        "naocriancas = dados2[['Survived', 'Age']].loc[dados2['Age'] >= 16.0]\n",
        "print('Não crianças (acima de 15 anos):',naocriancas.shape)\n",
        "print(naocriancas.describe())"
      ],
      "execution_count": null,
      "outputs": [
        {
          "output_type": "stream",
          "text": [
            "Crianças (até 15 anos): (83, 2)\n",
            "        Survived        Age\n",
            "count  83.000000  83.000000\n",
            "mean    0.590361   6.369518\n",
            "std     0.494757   4.729063\n",
            "min     0.000000   0.420000\n",
            "25%     0.000000   2.000000\n",
            "50%     1.000000   5.000000\n",
            "75%     1.000000   9.500000\n",
            "max     1.000000  15.000000\n",
            "Não crianças (acima de 15 anos): (631, 2)\n",
            "         Survived         Age\n",
            "count  631.000000  631.000000\n",
            "mean     0.381933   32.767829\n",
            "std      0.486246   12.440732\n",
            "min      0.000000   16.000000\n",
            "25%      0.000000   23.000000\n",
            "50%      0.000000   30.000000\n",
            "75%      1.000000   40.000000\n",
            "max      1.000000   80.000000\n"
          ],
          "name": "stdout"
        }
      ]
    },
    {
      "cell_type": "markdown",
      "metadata": {
        "id": "xlNUtRS7ofxD"
      },
      "source": [
        "**Exercício:** Descubra a porcentagem de sobrevivência em cada classe social da base *Titanic* que importamos."
      ]
    },
    {
      "cell_type": "code",
      "metadata": {
        "id": "v1Ptc4hgodm0",
        "outputId": "6856085e-b525-425b-906e-000d935ae94c",
        "colab": {
          "base_uri": "https://localhost:8080/",
          "height": 537
        }
      },
      "source": [
        "classe1 = dados2[['Survived', 'Pclass']].loc[dados2['Pclass'] == 1]\n",
        "print('Classe 1:',classe1.shape)\n",
        "print(classe1.describe())\n",
        "classe2 = dados2[['Survived', 'Pclass']].loc[dados2['Pclass'] == 2]\n",
        "print('Classe 2:',classe2.shape)\n",
        "print(classe2.describe())\n",
        "classe3 = dados2[['Survived', 'Pclass']].loc[dados2['Pclass'] == 3]\n",
        "print('Classe 3:',classe3.shape)\n",
        "print(classe3.describe())"
      ],
      "execution_count": null,
      "outputs": [
        {
          "output_type": "stream",
          "text": [
            "Classe 1: (216, 2)\n",
            "         Survived  Pclass\n",
            "count  216.000000   216.0\n",
            "mean     0.629630     1.0\n",
            "std      0.484026     0.0\n",
            "min      0.000000     1.0\n",
            "25%      0.000000     1.0\n",
            "50%      1.000000     1.0\n",
            "75%      1.000000     1.0\n",
            "max      1.000000     1.0\n",
            "Classe 2: (184, 2)\n",
            "         Survived  Pclass\n",
            "count  184.000000   184.0\n",
            "mean     0.472826     2.0\n",
            "std      0.500623     0.0\n",
            "min      0.000000     2.0\n",
            "25%      0.000000     2.0\n",
            "50%      0.000000     2.0\n",
            "75%      1.000000     2.0\n",
            "max      1.000000     2.0\n",
            "Classe 3: (491, 2)\n",
            "         Survived  Pclass\n",
            "count  491.000000   491.0\n",
            "mean     0.242363     3.0\n",
            "std      0.428949     0.0\n",
            "min      0.000000     3.0\n",
            "25%      0.000000     3.0\n",
            "50%      0.000000     3.0\n",
            "75%      0.000000     3.0\n",
            "max      1.000000     3.0\n"
          ],
          "name": "stdout"
        }
      ]
    },
    {
      "cell_type": "markdown",
      "metadata": {
        "id": "SR2YGHUL11Ja"
      },
      "source": [
        "**Vamos escrever para uma planilha???**"
      ]
    },
    {
      "cell_type": "code",
      "metadata": {
        "id": "7HvfOs_F10nq",
        "outputId": "3f53f94a-bbd3-4f39-8eb4-974d6cdea9b6",
        "colab": {
          "base_uri": "https://localhost:8080/",
          "height": 17
        }
      },
      "source": [
        "classe1.to_excel('classe1.xlsx', index=False)\n",
        "files.download('classe1.xlsx')"
      ],
      "execution_count": null,
      "outputs": [
        {
          "output_type": "display_data",
          "data": {
            "application/javascript": [
              "\n",
              "    async function download(id, filename, size) {\n",
              "      if (!google.colab.kernel.accessAllowed) {\n",
              "        return;\n",
              "      }\n",
              "      const div = document.createElement('div');\n",
              "      const label = document.createElement('label');\n",
              "      label.textContent = `Downloading \"${filename}\": `;\n",
              "      div.appendChild(label);\n",
              "      const progress = document.createElement('progress');\n",
              "      progress.max = size;\n",
              "      div.appendChild(progress);\n",
              "      document.body.appendChild(div);\n",
              "\n",
              "      const buffers = [];\n",
              "      let downloaded = 0;\n",
              "\n",
              "      const channel = await google.colab.kernel.comms.open(id);\n",
              "      // Send a message to notify the kernel that we're ready.\n",
              "      channel.send({})\n",
              "\n",
              "      for await (const message of channel.messages) {\n",
              "        // Send a message to notify the kernel that we're ready.\n",
              "        channel.send({})\n",
              "        if (message.buffers) {\n",
              "          for (const buffer of message.buffers) {\n",
              "            buffers.push(buffer);\n",
              "            downloaded += buffer.byteLength;\n",
              "            progress.value = downloaded;\n",
              "          }\n",
              "        }\n",
              "      }\n",
              "      const blob = new Blob(buffers, {type: 'application/binary'});\n",
              "      const a = document.createElement('a');\n",
              "      a.href = window.URL.createObjectURL(blob);\n",
              "      a.download = filename;\n",
              "      div.appendChild(a);\n",
              "      a.click();\n",
              "      div.remove();\n",
              "    }\n",
              "  "
            ],
            "text/plain": [
              "<IPython.core.display.Javascript object>"
            ]
          },
          "metadata": {
            "tags": []
          }
        },
        {
          "output_type": "display_data",
          "data": {
            "application/javascript": [
              "download(\"download_18d6cfab-ce8c-4a61-9df5-8aa9419f1129\", \"classe1.xlsx\", 6843)"
            ],
            "text/plain": [
              "<IPython.core.display.Javascript object>"
            ]
          },
          "metadata": {
            "tags": []
          }
        }
      ]
    },
    {
      "cell_type": "markdown",
      "metadata": {
        "id": "ut6GMueRUjIY"
      },
      "source": [
        "Um tipo especial de estrutura do Pandas, chamado *Series*, que tem a seguinte característica: assim como os *Dataframes*, está atrelada a um índice numérico. É como se fosse um *Dataframe*, só que de uma única coluna."
      ]
    },
    {
      "cell_type": "code",
      "metadata": {
        "id": "hrE2aY0EVF0U",
        "outputId": "9666c4bb-2c2c-4ed4-863a-55f674bf0276",
        "colab": {
          "base_uri": "https://localhost:8080/",
          "height": 173
        }
      },
      "source": [
        "s1 = pd.Series([2,5,3,34,54,23,1,16])\n",
        "print(s1)"
      ],
      "execution_count": null,
      "outputs": [
        {
          "output_type": "stream",
          "text": [
            "0     2\n",
            "1     5\n",
            "2     3\n",
            "3    34\n",
            "4    54\n",
            "5    23\n",
            "6     1\n",
            "7    16\n",
            "dtype: int64\n"
          ],
          "name": "stdout"
        }
      ]
    },
    {
      "cell_type": "code",
      "metadata": {
        "id": "wUl_kiyvVRCy",
        "outputId": "b66f927c-eada-473c-ddb5-fea5cc24f94f",
        "colab": {
          "base_uri": "https://localhost:8080/",
          "height": 171
        }
      },
      "source": [
        "import numpy as np\n",
        "array1 = np.array([2,5,3,34,54,23,1,16])\n",
        "s2 = pd.Series(array1)\n",
        "print(s2)"
      ],
      "execution_count": null,
      "outputs": [
        {
          "output_type": "stream",
          "text": [
            "0     2\n",
            "1     5\n",
            "2     3\n",
            "3    34\n",
            "4    54\n",
            "5    23\n",
            "6     1\n",
            "7    16\n",
            "dtype: int64\n"
          ],
          "name": "stdout"
        }
      ]
    },
    {
      "cell_type": "code",
      "metadata": {
        "id": "En77Ec50VxdV",
        "outputId": "78372271-71f4-49f2-bf2e-aebc383b7ba8",
        "colab": {
          "base_uri": "https://localhost:8080/",
          "height": 121
        }
      },
      "source": [
        "s3 = df1['Nome']\n",
        "print(s3)\n",
        "type(s3)"
      ],
      "execution_count": null,
      "outputs": [
        {
          "output_type": "stream",
          "text": [
            "0    Marcelo\n",
            "1      Lucas\n",
            "2    Cynthia\n",
            "3     Helena\n",
            "Name: Nome, dtype: object\n"
          ],
          "name": "stdout"
        },
        {
          "output_type": "execute_result",
          "data": {
            "text/plain": [
              "pandas.core.series.Series"
            ]
          },
          "metadata": {
            "tags": []
          },
          "execution_count": 37
        }
      ]
    },
    {
      "cell_type": "markdown",
      "metadata": {
        "id": "xwRgAjaQV8uB"
      },
      "source": [
        "**Detalhe:** Note que df1[['Nome']] é diferente de df1['Nome']"
      ]
    },
    {
      "cell_type": "markdown",
      "metadata": {
        "id": "S1RujR_-WB47"
      },
      "source": [
        "Consideraremos algumas manipulações com colunas de dataframes:"
      ]
    },
    {
      "cell_type": "markdown",
      "metadata": {
        "id": "fOyovao43Xjb"
      },
      "source": [
        "Quantas ocorrências (valores diferentes) em cada coluna:"
      ]
    },
    {
      "cell_type": "code",
      "metadata": {
        "id": "GkaspxHWWQl8",
        "outputId": "f3e2eb2b-e51a-43fc-ff3a-1a7326923c73",
        "colab": {
          "base_uri": "https://localhost:8080/",
          "height": 208
        }
      },
      "source": [
        "dados1['letras'].value_counts()"
      ],
      "execution_count": null,
      "outputs": [
        {
          "output_type": "execute_result",
          "data": {
            "text/plain": [
              "e    1\n",
              "j    1\n",
              "c    1\n",
              "i    1\n",
              "b    1\n",
              "h    1\n",
              "f    1\n",
              "a    1\n",
              "d    1\n",
              "g    1\n",
              "Name: letras, dtype: int64"
            ]
          },
          "metadata": {
            "tags": []
          },
          "execution_count": 38
        }
      ]
    },
    {
      "cell_type": "markdown",
      "metadata": {
        "id": "Sg1M7zPYXCqq"
      },
      "source": [
        "Para a base do *Titanic*:"
      ]
    },
    {
      "cell_type": "code",
      "metadata": {
        "id": "3CTbJaivXCM4",
        "outputId": "255b84f1-95a3-436d-bcfc-3fde335ac5ed",
        "colab": {
          "base_uri": "https://localhost:8080/",
          "height": 86
        }
      },
      "source": [
        "dados2['Pclass'].value_counts()"
      ],
      "execution_count": null,
      "outputs": [
        {
          "output_type": "execute_result",
          "data": {
            "text/plain": [
              "3    491\n",
              "1    216\n",
              "2    184\n",
              "Name: Pclass, dtype: int64"
            ]
          },
          "metadata": {
            "tags": []
          },
          "execution_count": 28
        }
      ]
    },
    {
      "cell_type": "code",
      "metadata": {
        "id": "gZKwJwgM3qwK",
        "outputId": "8e6a2b11-f5f8-42af-a3ad-b6b459da58f9",
        "colab": {
          "base_uri": "https://localhost:8080/",
          "height": 225
        }
      },
      "source": [
        "dados2['Age'].value_counts()"
      ],
      "execution_count": null,
      "outputs": [
        {
          "output_type": "execute_result",
          "data": {
            "text/plain": [
              "24.00    30\n",
              "22.00    27\n",
              "18.00    26\n",
              "19.00    25\n",
              "30.00    25\n",
              "         ..\n",
              "55.50     1\n",
              "70.50     1\n",
              "66.00     1\n",
              "23.50     1\n",
              "0.42      1\n",
              "Name: Age, Length: 88, dtype: int64"
            ]
          },
          "metadata": {
            "tags": []
          },
          "execution_count": 43
        }
      ]
    },
    {
      "cell_type": "markdown",
      "metadata": {
        "id": "y3w37A84XtW5"
      },
      "source": [
        "Por último veremos como excluir uma coluna que pode não ser de nosso interesse com o *drop*. Temos que indicar qual a coluna alvo (no caso a “números”), que nosso alvo é uma\n",
        "coluna (“axis=1”) e que não queremos mostrar os dados (“Inplace=True”):"
      ]
    },
    {
      "cell_type": "code",
      "metadata": {
        "id": "CcQafpAKYBbM",
        "outputId": "19744e0c-32d8-42c8-cce5-79e98ea5824b",
        "colab": {
          "base_uri": "https://localhost:8080/",
          "height": 208
        }
      },
      "source": [
        "dados1.drop('números',axis=1,inplace=True)\n",
        "print(dados1)"
      ],
      "execution_count": null,
      "outputs": [
        {
          "output_type": "stream",
          "text": [
            "  letras\n",
            "0      a\n",
            "1      b\n",
            "2      c\n",
            "3      d\n",
            "4      e\n",
            "5      f\n",
            "6      g\n",
            "7      h\n",
            "8      i\n",
            "9      j\n"
          ],
          "name": "stdout"
        }
      ]
    },
    {
      "cell_type": "markdown",
      "metadata": {
        "id": "6i3h5cTRZkdN"
      },
      "source": [
        "Retirar as linhas que tem dados faltantes com para\n",
        "realizar alguma operação que pudesse depois trabalhar estes dados para conseguir completar\n",
        "os dados NaN. Para fazer isso poderíamos usar:"
      ]
    },
    {
      "cell_type": "code",
      "metadata": {
        "id": "mCC5416zZoi3",
        "outputId": "09a2dea1-404e-4184-9e53-755b404a837b",
        "colab": {
          "base_uri": "https://localhost:8080/",
          "height": 208
        }
      },
      "source": [
        "teste = dados1.dropna()\n",
        "print(teste)"
      ],
      "execution_count": null,
      "outputs": [
        {
          "output_type": "stream",
          "text": [
            "  letras\n",
            "0      a\n",
            "1      b\n",
            "2      c\n",
            "3      d\n",
            "4      e\n",
            "5      f\n",
            "6      g\n",
            "7      h\n",
            "8      i\n",
            "9      j\n"
          ],
          "name": "stdout"
        }
      ]
    },
    {
      "cell_type": "code",
      "metadata": {
        "id": "yA35Hu0K5TnF",
        "outputId": "8a98e579-e4be-49bd-a174-b1104aab3f6e",
        "colab": {
          "base_uri": "https://localhost:8080/",
          "height": 260
        }
      },
      "source": [
        "teste2 = dados2.dropna()\n",
        "print(teste2)"
      ],
      "execution_count": null,
      "outputs": [
        {
          "output_type": "stream",
          "text": [
            "     PassengerId  Survived  Pclass  ...     Fare        Cabin  Embarked\n",
            "1              2         1       1  ...  71.2833          C85         C\n",
            "3              4         1       1  ...  53.1000         C123         S\n",
            "6              7         0       1  ...  51.8625          E46         S\n",
            "10            11         1       3  ...  16.7000           G6         S\n",
            "11            12         1       1  ...  26.5500         C103         S\n",
            "..           ...       ...     ...  ...      ...          ...       ...\n",
            "871          872         1       1  ...  52.5542          D35         S\n",
            "872          873         0       1  ...   5.0000  B51 B53 B55         S\n",
            "879          880         1       1  ...  83.1583          C50         C\n",
            "887          888         1       1  ...  30.0000          B42         S\n",
            "889          890         1       1  ...  30.0000         C148         C\n",
            "\n",
            "[183 rows x 12 columns]\n"
          ],
          "name": "stdout"
        }
      ]
    },
    {
      "cell_type": "markdown",
      "metadata": {
        "id": "H2_c5fx8Z7Gi"
      },
      "source": [
        "Ao invés de excluí-los poderíamos verificar quais estão faltantes com a função “isnull”:"
      ]
    },
    {
      "cell_type": "code",
      "metadata": {
        "id": "X2HD4j8hZ9QX",
        "outputId": "0d19b43f-615f-4de9-ab59-c5584a89530c",
        "colab": {
          "base_uri": "https://localhost:8080/",
          "height": 206
        }
      },
      "source": [
        "nulos = dados1.isnull()\n",
        "print(nulos)"
      ],
      "execution_count": null,
      "outputs": [
        {
          "output_type": "stream",
          "text": [
            "   letras\n",
            "0   False\n",
            "1   False\n",
            "2   False\n",
            "3   False\n",
            "4   False\n",
            "5   False\n",
            "6   False\n",
            "7   False\n",
            "8   False\n",
            "9   False\n"
          ],
          "name": "stdout"
        }
      ]
    },
    {
      "cell_type": "code",
      "metadata": {
        "id": "FyyxEEZa5uul",
        "outputId": "51cf4c60-1f03-4498-cad3-d78640630a38",
        "colab": {
          "base_uri": "https://localhost:8080/",
          "height": 260
        }
      },
      "source": [
        "teste3 = dados2.isnull()\n",
        "print(teste3)"
      ],
      "execution_count": null,
      "outputs": [
        {
          "output_type": "stream",
          "text": [
            "     PassengerId  Survived  Pclass   Name  ...  Ticket   Fare  Cabin  Embarked\n",
            "0          False     False   False  False  ...   False  False   True     False\n",
            "1          False     False   False  False  ...   False  False  False     False\n",
            "2          False     False   False  False  ...   False  False   True     False\n",
            "3          False     False   False  False  ...   False  False  False     False\n",
            "4          False     False   False  False  ...   False  False   True     False\n",
            "..           ...       ...     ...    ...  ...     ...    ...    ...       ...\n",
            "886        False     False   False  False  ...   False  False   True     False\n",
            "887        False     False   False  False  ...   False  False  False     False\n",
            "888        False     False   False  False  ...   False  False   True     False\n",
            "889        False     False   False  False  ...   False  False  False     False\n",
            "890        False     False   False  False  ...   False  False   True     False\n",
            "\n",
            "[891 rows x 12 columns]\n"
          ],
          "name": "stdout"
        }
      ]
    },
    {
      "cell_type": "markdown",
      "metadata": {
        "id": "tCN9PDyMaLux"
      },
      "source": [
        "Usando o conceito do “isnull” podemos trabalhar a quantidade de dados faltantes:"
      ]
    },
    {
      "cell_type": "code",
      "metadata": {
        "id": "okq02ZVfaVDW",
        "outputId": "ce402be5-4cea-4942-dab6-790d7da0dcdd",
        "colab": {
          "base_uri": "https://localhost:8080/",
          "height": 52
        }
      },
      "source": [
        "qtdnulos = dados1.isnull().sum()\n",
        "print(qtdnulos)"
      ],
      "execution_count": null,
      "outputs": [
        {
          "output_type": "stream",
          "text": [
            "letras    0\n",
            "dtype: int64\n"
          ],
          "name": "stdout"
        }
      ]
    },
    {
      "cell_type": "code",
      "metadata": {
        "id": "nszL3U6l6KcK",
        "outputId": "c2d5c71f-4782-4801-ec41-822b5a123228",
        "colab": {
          "base_uri": "https://localhost:8080/",
          "height": 243
        }
      },
      "source": [
        "nulosTitanic = dados2.isnull().sum()\n",
        "print(nulosTitanic)"
      ],
      "execution_count": null,
      "outputs": [
        {
          "output_type": "stream",
          "text": [
            "PassengerId      0\n",
            "Survived         0\n",
            "Pclass           0\n",
            "Name             0\n",
            "Sex              0\n",
            "Age            177\n",
            "SibSp            0\n",
            "Parch            0\n",
            "Ticket           0\n",
            "Fare             0\n",
            "Cabin          687\n",
            "Embarked         2\n",
            "dtype: int64\n"
          ],
          "name": "stdout"
        }
      ]
    },
    {
      "cell_type": "markdown",
      "metadata": {
        "id": "O9MjgGWYajyl"
      },
      "source": [
        "É possível também preencher os dados faltantes com algum valor. Por exemplo:"
      ]
    },
    {
      "cell_type": "code",
      "metadata": {
        "id": "CzLe8lkJal5A",
        "outputId": "c96cb522-7ff7-4cfb-e63d-eeba5338c24d",
        "colab": {
          "base_uri": "https://localhost:8080/",
          "height": 206
        }
      },
      "source": [
        "dados1['letras'].fillna('semdados',inplace = True)\n",
        "print(dados1)\n"
      ],
      "execution_count": null,
      "outputs": [
        {
          "output_type": "stream",
          "text": [
            "  letras\n",
            "0      a\n",
            "1      b\n",
            "2      c\n",
            "3      d\n",
            "4      e\n",
            "5      f\n",
            "6      g\n",
            "7      h\n",
            "8      i\n",
            "9      j\n"
          ],
          "name": "stdout"
        }
      ]
    },
    {
      "cell_type": "code",
      "metadata": {
        "id": "v0F4Ba2q62ZQ",
        "outputId": "d806c299-153e-4b36-ed3c-9d01f8459d94",
        "colab": {
          "base_uri": "https://localhost:8080/",
          "height": 485
        }
      },
      "source": [
        "dados2['Cabin'].fillna('NA',inplace = True)\n",
        "print(dados2)\n",
        "nulosTitanic = dados2.isnull().sum()\n",
        "print(nulosTitanic)"
      ],
      "execution_count": null,
      "outputs": [
        {
          "output_type": "stream",
          "text": [
            "     PassengerId  Survived  Pclass  ...     Fare Cabin  Embarked\n",
            "0              1         0       3  ...   7.2500    NA         S\n",
            "1              2         1       1  ...  71.2833   C85         C\n",
            "2              3         1       3  ...   7.9250    NA         S\n",
            "3              4         1       1  ...  53.1000  C123         S\n",
            "4              5         0       3  ...   8.0500    NA         S\n",
            "..           ...       ...     ...  ...      ...   ...       ...\n",
            "886          887         0       2  ...  13.0000    NA         S\n",
            "887          888         1       1  ...  30.0000   B42         S\n",
            "888          889         0       3  ...  23.4500    NA         S\n",
            "889          890         1       1  ...  30.0000  C148         C\n",
            "890          891         0       3  ...   7.7500    NA         Q\n",
            "\n",
            "[891 rows x 12 columns]\n",
            "PassengerId      0\n",
            "Survived         0\n",
            "Pclass           0\n",
            "Name             0\n",
            "Sex              0\n",
            "Age            177\n",
            "SibSp            0\n",
            "Parch            0\n",
            "Ticket           0\n",
            "Fare             0\n",
            "Cabin            0\n",
            "Embarked         2\n",
            "dtype: int64\n"
          ],
          "name": "stdout"
        }
      ]
    },
    {
      "cell_type": "markdown",
      "metadata": {
        "id": "big6zOtebCHV"
      },
      "source": [
        "**Exercícios:**\n",
        "\n",
        "Teste estas manipulações com dataframes na base de dados do projeto (census.csv)."
      ]
    },
    {
      "cell_type": "code",
      "metadata": {
        "id": "f5jJvu-2f2cL",
        "outputId": "c2a75cf5-8e13-4a76-d1c8-c1047e54d7c4",
        "colab": {
          "base_uri": "https://localhost:8080/",
          "height": 737
        }
      },
      "source": [
        "#por exemplo....\n",
        "dados3['native.country'].value_counts()\n"
      ],
      "execution_count": null,
      "outputs": [
        {
          "output_type": "execute_result",
          "data": {
            "text/plain": [
              " United-States                 27504\n",
              " Mexico                          610\n",
              " Philippines                     188\n",
              " Germany                         128\n",
              " Puerto-Rico                     109\n",
              " Canada                          107\n",
              " India                           100\n",
              " El-Salvador                     100\n",
              " Cuba                             92\n",
              " England                          86\n",
              " Jamaica                          80\n",
              " South                            71\n",
              " Italy                            68\n",
              " China                            68\n",
              " Dominican-Republic               67\n",
              " Vietnam                          64\n",
              " Guatemala                        63\n",
              " Japan                            59\n",
              " Poland                           56\n",
              " Columbia                         56\n",
              " Haiti                            42\n",
              " Iran                             42\n",
              " Taiwan                           42\n",
              " Portugal                         34\n",
              " Nicaragua                        33\n",
              " Peru                             30\n",
              " Greece                           29\n",
              " Ecuador                          27\n",
              " France                           27\n",
              " Ireland                          24\n",
              " Hong                             19\n",
              " Trinadad&Tobago                  18\n",
              " Cambodia                         18\n",
              " Thailand                         17\n",
              " Laos                             17\n",
              " Yugoslavia                       16\n",
              " Outlying-US(Guam-USVI-etc)       14\n",
              " Hungary                          13\n",
              " Honduras                         12\n",
              " Scotland                         11\n",
              " Holand-Netherlands                1\n",
              "Name: native.country, dtype: int64"
            ]
          },
          "metadata": {
            "tags": []
          },
          "execution_count": 44
        }
      ]
    }
  ]
}